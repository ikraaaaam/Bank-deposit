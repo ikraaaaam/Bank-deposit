{
 "cells": [
  {
   "cell_type": "markdown",
   "metadata": {},
   "source": [
    "# importing necessary libraries"
   ]
  },
  {
   "cell_type": "code",
   "execution_count": 1,
   "metadata": {},
   "outputs": [],
   "source": [
    "import pandas as pd\n",
    "from matplotlib import pyplot as plt\n",
    "import numpy as np\n",
    "import seaborn as sns\n",
    "import sklearn\n",
    "#from sklearn.model_selection import train_test_split # split between train and test data\n",
    "#from sklearn.model_selection import cross_val_score # calculate cross validation score and under the roc curve socring\n",
    "#from sklearn.metrics import confusion_matrix, roc_curve, roc_auc_score, classification_report\n",
    "#from sklearn.linear_model import LogisticRegression, Ridge\n",
    "#from sklearn.svm import SVC\n",
    "#from sklearn.tree import DecisionTreeClassifier\n",
    "#from sklearn.ensemble import RandomForestClassifier\n",
    "#import tensorflow as tf #pip install tensorflow\n",
    "#import keras\n",
    "%matplotlib inline"
   ]
  },
  {
   "cell_type": "markdown",
   "metadata": {},
   "source": [
    "### ignoring the errors"
   ]
  },
  {
   "cell_type": "code",
   "execution_count": 2,
   "metadata": {},
   "outputs": [],
   "source": [
    "import warnings\n",
    "warnings.filterwarnings('ignore')"
   ]
  },
  {
   "cell_type": "markdown",
   "metadata": {},
   "source": [
    "# Loading the data"
   ]
  },
  {
   "cell_type": "code",
   "execution_count": 3,
   "metadata": {},
   "outputs": [
    {
     "data": {
      "text/html": [
       "<div>\n",
       "<style scoped>\n",
       "    .dataframe tbody tr th:only-of-type {\n",
       "        vertical-align: middle;\n",
       "    }\n",
       "\n",
       "    .dataframe tbody tr th {\n",
       "        vertical-align: top;\n",
       "    }\n",
       "\n",
       "    .dataframe thead th {\n",
       "        text-align: right;\n",
       "    }\n",
       "</style>\n",
       "<table border=\"1\" class=\"dataframe\">\n",
       "  <thead>\n",
       "    <tr style=\"text-align: right;\">\n",
       "      <th></th>\n",
       "      <th>age</th>\n",
       "      <th>job</th>\n",
       "      <th>marital</th>\n",
       "      <th>education</th>\n",
       "      <th>default</th>\n",
       "      <th>balance</th>\n",
       "      <th>housing</th>\n",
       "      <th>loan</th>\n",
       "      <th>contact</th>\n",
       "      <th>day</th>\n",
       "      <th>month</th>\n",
       "      <th>duration</th>\n",
       "      <th>campaign</th>\n",
       "      <th>pdays</th>\n",
       "      <th>previous</th>\n",
       "      <th>poutcome</th>\n",
       "      <th>deposit</th>\n",
       "    </tr>\n",
       "  </thead>\n",
       "  <tbody>\n",
       "    <tr>\n",
       "      <th>3842</th>\n",
       "      <td>22</td>\n",
       "      <td>student</td>\n",
       "      <td>single</td>\n",
       "      <td>secondary</td>\n",
       "      <td>no</td>\n",
       "      <td>216</td>\n",
       "      <td>no</td>\n",
       "      <td>no</td>\n",
       "      <td>cellular</td>\n",
       "      <td>6</td>\n",
       "      <td>aug</td>\n",
       "      <td>178</td>\n",
       "      <td>1</td>\n",
       "      <td>179</td>\n",
       "      <td>2</td>\n",
       "      <td>success</td>\n",
       "      <td>yes</td>\n",
       "    </tr>\n",
       "    <tr>\n",
       "      <th>4903</th>\n",
       "      <td>41</td>\n",
       "      <td>management</td>\n",
       "      <td>married</td>\n",
       "      <td>primary</td>\n",
       "      <td>no</td>\n",
       "      <td>5310</td>\n",
       "      <td>yes</td>\n",
       "      <td>no</td>\n",
       "      <td>cellular</td>\n",
       "      <td>17</td>\n",
       "      <td>nov</td>\n",
       "      <td>984</td>\n",
       "      <td>1</td>\n",
       "      <td>-1</td>\n",
       "      <td>0</td>\n",
       "      <td>unknown</td>\n",
       "      <td>yes</td>\n",
       "    </tr>\n",
       "    <tr>\n",
       "      <th>4939</th>\n",
       "      <td>24</td>\n",
       "      <td>technician</td>\n",
       "      <td>single</td>\n",
       "      <td>secondary</td>\n",
       "      <td>no</td>\n",
       "      <td>598</td>\n",
       "      <td>no</td>\n",
       "      <td>no</td>\n",
       "      <td>cellular</td>\n",
       "      <td>12</td>\n",
       "      <td>may</td>\n",
       "      <td>762</td>\n",
       "      <td>1</td>\n",
       "      <td>182</td>\n",
       "      <td>2</td>\n",
       "      <td>success</td>\n",
       "      <td>yes</td>\n",
       "    </tr>\n",
       "    <tr>\n",
       "      <th>9992</th>\n",
       "      <td>48</td>\n",
       "      <td>blue-collar</td>\n",
       "      <td>married</td>\n",
       "      <td>secondary</td>\n",
       "      <td>no</td>\n",
       "      <td>741</td>\n",
       "      <td>yes</td>\n",
       "      <td>no</td>\n",
       "      <td>cellular</td>\n",
       "      <td>16</td>\n",
       "      <td>apr</td>\n",
       "      <td>227</td>\n",
       "      <td>1</td>\n",
       "      <td>-1</td>\n",
       "      <td>0</td>\n",
       "      <td>unknown</td>\n",
       "      <td>no</td>\n",
       "    </tr>\n",
       "    <tr>\n",
       "      <th>621</th>\n",
       "      <td>58</td>\n",
       "      <td>management</td>\n",
       "      <td>divorced</td>\n",
       "      <td>secondary</td>\n",
       "      <td>no</td>\n",
       "      <td>3161</td>\n",
       "      <td>no</td>\n",
       "      <td>no</td>\n",
       "      <td>telephone</td>\n",
       "      <td>30</td>\n",
       "      <td>jul</td>\n",
       "      <td>542</td>\n",
       "      <td>2</td>\n",
       "      <td>-1</td>\n",
       "      <td>0</td>\n",
       "      <td>unknown</td>\n",
       "      <td>yes</td>\n",
       "    </tr>\n",
       "    <tr>\n",
       "      <th>...</th>\n",
       "      <td>...</td>\n",
       "      <td>...</td>\n",
       "      <td>...</td>\n",
       "      <td>...</td>\n",
       "      <td>...</td>\n",
       "      <td>...</td>\n",
       "      <td>...</td>\n",
       "      <td>...</td>\n",
       "      <td>...</td>\n",
       "      <td>...</td>\n",
       "      <td>...</td>\n",
       "      <td>...</td>\n",
       "      <td>...</td>\n",
       "      <td>...</td>\n",
       "      <td>...</td>\n",
       "      <td>...</td>\n",
       "      <td>...</td>\n",
       "    </tr>\n",
       "    <tr>\n",
       "      <th>2759</th>\n",
       "      <td>54</td>\n",
       "      <td>blue-collar</td>\n",
       "      <td>married</td>\n",
       "      <td>primary</td>\n",
       "      <td>no</td>\n",
       "      <td>1311</td>\n",
       "      <td>no</td>\n",
       "      <td>no</td>\n",
       "      <td>telephone</td>\n",
       "      <td>15</td>\n",
       "      <td>oct</td>\n",
       "      <td>485</td>\n",
       "      <td>3</td>\n",
       "      <td>184</td>\n",
       "      <td>3</td>\n",
       "      <td>failure</td>\n",
       "      <td>yes</td>\n",
       "    </tr>\n",
       "    <tr>\n",
       "      <th>10524</th>\n",
       "      <td>28</td>\n",
       "      <td>admin.</td>\n",
       "      <td>married</td>\n",
       "      <td>secondary</td>\n",
       "      <td>no</td>\n",
       "      <td>170</td>\n",
       "      <td>yes</td>\n",
       "      <td>yes</td>\n",
       "      <td>unknown</td>\n",
       "      <td>21</td>\n",
       "      <td>may</td>\n",
       "      <td>492</td>\n",
       "      <td>1</td>\n",
       "      <td>-1</td>\n",
       "      <td>0</td>\n",
       "      <td>unknown</td>\n",
       "      <td>no</td>\n",
       "    </tr>\n",
       "    <tr>\n",
       "      <th>96</th>\n",
       "      <td>30</td>\n",
       "      <td>technician</td>\n",
       "      <td>single</td>\n",
       "      <td>tertiary</td>\n",
       "      <td>no</td>\n",
       "      <td>880</td>\n",
       "      <td>yes</td>\n",
       "      <td>yes</td>\n",
       "      <td>unknown</td>\n",
       "      <td>19</td>\n",
       "      <td>may</td>\n",
       "      <td>967</td>\n",
       "      <td>6</td>\n",
       "      <td>-1</td>\n",
       "      <td>0</td>\n",
       "      <td>unknown</td>\n",
       "      <td>yes</td>\n",
       "    </tr>\n",
       "    <tr>\n",
       "      <th>4289</th>\n",
       "      <td>27</td>\n",
       "      <td>student</td>\n",
       "      <td>single</td>\n",
       "      <td>secondary</td>\n",
       "      <td>no</td>\n",
       "      <td>213</td>\n",
       "      <td>no</td>\n",
       "      <td>no</td>\n",
       "      <td>cellular</td>\n",
       "      <td>27</td>\n",
       "      <td>mar</td>\n",
       "      <td>378</td>\n",
       "      <td>1</td>\n",
       "      <td>-1</td>\n",
       "      <td>0</td>\n",
       "      <td>unknown</td>\n",
       "      <td>yes</td>\n",
       "    </tr>\n",
       "    <tr>\n",
       "      <th>6418</th>\n",
       "      <td>35</td>\n",
       "      <td>management</td>\n",
       "      <td>divorced</td>\n",
       "      <td>tertiary</td>\n",
       "      <td>no</td>\n",
       "      <td>457</td>\n",
       "      <td>yes</td>\n",
       "      <td>no</td>\n",
       "      <td>cellular</td>\n",
       "      <td>5</td>\n",
       "      <td>feb</td>\n",
       "      <td>114</td>\n",
       "      <td>3</td>\n",
       "      <td>-1</td>\n",
       "      <td>0</td>\n",
       "      <td>unknown</td>\n",
       "      <td>no</td>\n",
       "    </tr>\n",
       "  </tbody>\n",
       "</table>\n",
       "<p>100 rows × 17 columns</p>\n",
       "</div>"
      ],
      "text/plain": [
       "       age          job   marital  education default  balance housing loan  \\\n",
       "3842    22      student    single  secondary      no      216      no   no   \n",
       "4903    41   management   married    primary      no     5310     yes   no   \n",
       "4939    24   technician    single  secondary      no      598      no   no   \n",
       "9992    48  blue-collar   married  secondary      no      741     yes   no   \n",
       "621     58   management  divorced  secondary      no     3161      no   no   \n",
       "...    ...          ...       ...        ...     ...      ...     ...  ...   \n",
       "2759    54  blue-collar   married    primary      no     1311      no   no   \n",
       "10524   28       admin.   married  secondary      no      170     yes  yes   \n",
       "96      30   technician    single   tertiary      no      880     yes  yes   \n",
       "4289    27      student    single  secondary      no      213      no   no   \n",
       "6418    35   management  divorced   tertiary      no      457     yes   no   \n",
       "\n",
       "         contact  day month  duration  campaign  pdays  previous poutcome  \\\n",
       "3842    cellular    6   aug       178         1    179         2  success   \n",
       "4903    cellular   17   nov       984         1     -1         0  unknown   \n",
       "4939    cellular   12   may       762         1    182         2  success   \n",
       "9992    cellular   16   apr       227         1     -1         0  unknown   \n",
       "621    telephone   30   jul       542         2     -1         0  unknown   \n",
       "...          ...  ...   ...       ...       ...    ...       ...      ...   \n",
       "2759   telephone   15   oct       485         3    184         3  failure   \n",
       "10524    unknown   21   may       492         1     -1         0  unknown   \n",
       "96       unknown   19   may       967         6     -1         0  unknown   \n",
       "4289    cellular   27   mar       378         1     -1         0  unknown   \n",
       "6418    cellular    5   feb       114         3     -1         0  unknown   \n",
       "\n",
       "      deposit  \n",
       "3842      yes  \n",
       "4903      yes  \n",
       "4939      yes  \n",
       "9992       no  \n",
       "621       yes  \n",
       "...       ...  \n",
       "2759      yes  \n",
       "10524      no  \n",
       "96        yes  \n",
       "4289      yes  \n",
       "6418       no  \n",
       "\n",
       "[100 rows x 17 columns]"
      ]
     },
     "execution_count": 3,
     "metadata": {},
     "output_type": "execute_result"
    }
   ],
   "source": [
    "df = pd.read_csv(r\"C:\\Users\\USER\\ML Datasets\\class22\\Campaign details.csv\")\n",
    "df.sample(100)"
   ]
  },
  {
   "cell_type": "code",
   "execution_count": 4,
   "metadata": {},
   "outputs": [
    {
     "data": {
      "text/plain": [
       "(11162, 17)"
      ]
     },
     "execution_count": 4,
     "metadata": {},
     "output_type": "execute_result"
    }
   ],
   "source": [
    "df.shape"
   ]
  },
  {
   "cell_type": "code",
   "execution_count": 5,
   "metadata": {},
   "outputs": [
    {
     "name": "stdout",
     "output_type": "stream",
     "text": [
      "<class 'pandas.core.frame.DataFrame'>\n",
      "RangeIndex: 11162 entries, 0 to 11161\n",
      "Data columns (total 17 columns):\n",
      " #   Column     Non-Null Count  Dtype \n",
      "---  ------     --------------  ----- \n",
      " 0   age        11162 non-null  int64 \n",
      " 1   job        11162 non-null  object\n",
      " 2   marital    11162 non-null  object\n",
      " 3   education  11162 non-null  object\n",
      " 4   default    11162 non-null  object\n",
      " 5   balance    11162 non-null  int64 \n",
      " 6   housing    11162 non-null  object\n",
      " 7   loan       11162 non-null  object\n",
      " 8   contact    11162 non-null  object\n",
      " 9   day        11162 non-null  int64 \n",
      " 10  month      11162 non-null  object\n",
      " 11  duration   11162 non-null  int64 \n",
      " 12  campaign   11162 non-null  int64 \n",
      " 13  pdays      11162 non-null  int64 \n",
      " 14  previous   11162 non-null  int64 \n",
      " 15  poutcome   11162 non-null  object\n",
      " 16  deposit    11162 non-null  object\n",
      "dtypes: int64(7), object(10)\n",
      "memory usage: 1.4+ MB\n"
     ]
    }
   ],
   "source": [
    "df.info()"
   ]
  },
  {
   "cell_type": "code",
   "execution_count": 6,
   "metadata": {},
   "outputs": [
    {
     "data": {
      "text/html": [
       "<div>\n",
       "<style scoped>\n",
       "    .dataframe tbody tr th:only-of-type {\n",
       "        vertical-align: middle;\n",
       "    }\n",
       "\n",
       "    .dataframe tbody tr th {\n",
       "        vertical-align: top;\n",
       "    }\n",
       "\n",
       "    .dataframe thead th {\n",
       "        text-align: right;\n",
       "    }\n",
       "</style>\n",
       "<table border=\"1\" class=\"dataframe\">\n",
       "  <thead>\n",
       "    <tr style=\"text-align: right;\">\n",
       "      <th></th>\n",
       "      <th>age</th>\n",
       "      <th>balance</th>\n",
       "      <th>day</th>\n",
       "      <th>duration</th>\n",
       "      <th>campaign</th>\n",
       "      <th>pdays</th>\n",
       "      <th>previous</th>\n",
       "    </tr>\n",
       "  </thead>\n",
       "  <tbody>\n",
       "    <tr>\n",
       "      <th>count</th>\n",
       "      <td>11162.000000</td>\n",
       "      <td>11162.000000</td>\n",
       "      <td>11162.000000</td>\n",
       "      <td>11162.000000</td>\n",
       "      <td>11162.000000</td>\n",
       "      <td>11162.000000</td>\n",
       "      <td>11162.000000</td>\n",
       "    </tr>\n",
       "    <tr>\n",
       "      <th>mean</th>\n",
       "      <td>41.231948</td>\n",
       "      <td>1528.538524</td>\n",
       "      <td>15.658036</td>\n",
       "      <td>371.993818</td>\n",
       "      <td>2.508421</td>\n",
       "      <td>51.330407</td>\n",
       "      <td>0.832557</td>\n",
       "    </tr>\n",
       "    <tr>\n",
       "      <th>std</th>\n",
       "      <td>11.913369</td>\n",
       "      <td>3225.413326</td>\n",
       "      <td>8.420740</td>\n",
       "      <td>347.128386</td>\n",
       "      <td>2.722077</td>\n",
       "      <td>108.758282</td>\n",
       "      <td>2.292007</td>\n",
       "    </tr>\n",
       "    <tr>\n",
       "      <th>min</th>\n",
       "      <td>18.000000</td>\n",
       "      <td>-6847.000000</td>\n",
       "      <td>1.000000</td>\n",
       "      <td>2.000000</td>\n",
       "      <td>1.000000</td>\n",
       "      <td>-1.000000</td>\n",
       "      <td>0.000000</td>\n",
       "    </tr>\n",
       "    <tr>\n",
       "      <th>25%</th>\n",
       "      <td>32.000000</td>\n",
       "      <td>122.000000</td>\n",
       "      <td>8.000000</td>\n",
       "      <td>138.000000</td>\n",
       "      <td>1.000000</td>\n",
       "      <td>-1.000000</td>\n",
       "      <td>0.000000</td>\n",
       "    </tr>\n",
       "    <tr>\n",
       "      <th>50%</th>\n",
       "      <td>39.000000</td>\n",
       "      <td>550.000000</td>\n",
       "      <td>15.000000</td>\n",
       "      <td>255.000000</td>\n",
       "      <td>2.000000</td>\n",
       "      <td>-1.000000</td>\n",
       "      <td>0.000000</td>\n",
       "    </tr>\n",
       "    <tr>\n",
       "      <th>75%</th>\n",
       "      <td>49.000000</td>\n",
       "      <td>1708.000000</td>\n",
       "      <td>22.000000</td>\n",
       "      <td>496.000000</td>\n",
       "      <td>3.000000</td>\n",
       "      <td>20.750000</td>\n",
       "      <td>1.000000</td>\n",
       "    </tr>\n",
       "    <tr>\n",
       "      <th>max</th>\n",
       "      <td>95.000000</td>\n",
       "      <td>81204.000000</td>\n",
       "      <td>31.000000</td>\n",
       "      <td>3881.000000</td>\n",
       "      <td>63.000000</td>\n",
       "      <td>854.000000</td>\n",
       "      <td>58.000000</td>\n",
       "    </tr>\n",
       "  </tbody>\n",
       "</table>\n",
       "</div>"
      ],
      "text/plain": [
       "                age       balance           day      duration      campaign  \\\n",
       "count  11162.000000  11162.000000  11162.000000  11162.000000  11162.000000   \n",
       "mean      41.231948   1528.538524     15.658036    371.993818      2.508421   \n",
       "std       11.913369   3225.413326      8.420740    347.128386      2.722077   \n",
       "min       18.000000  -6847.000000      1.000000      2.000000      1.000000   \n",
       "25%       32.000000    122.000000      8.000000    138.000000      1.000000   \n",
       "50%       39.000000    550.000000     15.000000    255.000000      2.000000   \n",
       "75%       49.000000   1708.000000     22.000000    496.000000      3.000000   \n",
       "max       95.000000  81204.000000     31.000000   3881.000000     63.000000   \n",
       "\n",
       "              pdays      previous  \n",
       "count  11162.000000  11162.000000  \n",
       "mean      51.330407      0.832557  \n",
       "std      108.758282      2.292007  \n",
       "min       -1.000000      0.000000  \n",
       "25%       -1.000000      0.000000  \n",
       "50%       -1.000000      0.000000  \n",
       "75%       20.750000      1.000000  \n",
       "max      854.000000     58.000000  "
      ]
     },
     "execution_count": 6,
     "metadata": {},
     "output_type": "execute_result"
    }
   ],
   "source": [
    "# describe df numerical columns\n",
    "df.describe()"
   ]
  },
  {
   "cell_type": "code",
   "execution_count": 7,
   "metadata": {},
   "outputs": [
    {
     "data": {
      "text/html": [
       "<div>\n",
       "<style scoped>\n",
       "    .dataframe tbody tr th:only-of-type {\n",
       "        vertical-align: middle;\n",
       "    }\n",
       "\n",
       "    .dataframe tbody tr th {\n",
       "        vertical-align: top;\n",
       "    }\n",
       "\n",
       "    .dataframe thead th {\n",
       "        text-align: right;\n",
       "    }\n",
       "</style>\n",
       "<table border=\"1\" class=\"dataframe\">\n",
       "  <thead>\n",
       "    <tr style=\"text-align: right;\">\n",
       "      <th></th>\n",
       "      <th>job</th>\n",
       "      <th>marital</th>\n",
       "      <th>education</th>\n",
       "      <th>default</th>\n",
       "      <th>housing</th>\n",
       "      <th>loan</th>\n",
       "      <th>contact</th>\n",
       "      <th>month</th>\n",
       "      <th>poutcome</th>\n",
       "      <th>deposit</th>\n",
       "    </tr>\n",
       "  </thead>\n",
       "  <tbody>\n",
       "    <tr>\n",
       "      <th>count</th>\n",
       "      <td>11162</td>\n",
       "      <td>11162</td>\n",
       "      <td>11162</td>\n",
       "      <td>11162</td>\n",
       "      <td>11162</td>\n",
       "      <td>11162</td>\n",
       "      <td>11162</td>\n",
       "      <td>11162</td>\n",
       "      <td>11162</td>\n",
       "      <td>11162</td>\n",
       "    </tr>\n",
       "    <tr>\n",
       "      <th>unique</th>\n",
       "      <td>12</td>\n",
       "      <td>3</td>\n",
       "      <td>4</td>\n",
       "      <td>2</td>\n",
       "      <td>2</td>\n",
       "      <td>2</td>\n",
       "      <td>3</td>\n",
       "      <td>12</td>\n",
       "      <td>4</td>\n",
       "      <td>2</td>\n",
       "    </tr>\n",
       "    <tr>\n",
       "      <th>top</th>\n",
       "      <td>management</td>\n",
       "      <td>married</td>\n",
       "      <td>secondary</td>\n",
       "      <td>no</td>\n",
       "      <td>no</td>\n",
       "      <td>no</td>\n",
       "      <td>cellular</td>\n",
       "      <td>may</td>\n",
       "      <td>unknown</td>\n",
       "      <td>no</td>\n",
       "    </tr>\n",
       "    <tr>\n",
       "      <th>freq</th>\n",
       "      <td>2566</td>\n",
       "      <td>6351</td>\n",
       "      <td>5476</td>\n",
       "      <td>10994</td>\n",
       "      <td>5881</td>\n",
       "      <td>9702</td>\n",
       "      <td>8042</td>\n",
       "      <td>2824</td>\n",
       "      <td>8326</td>\n",
       "      <td>5873</td>\n",
       "    </tr>\n",
       "  </tbody>\n",
       "</table>\n",
       "</div>"
      ],
      "text/plain": [
       "               job  marital  education default housing   loan   contact  \\\n",
       "count        11162    11162      11162   11162   11162  11162     11162   \n",
       "unique          12        3          4       2       2      2         3   \n",
       "top     management  married  secondary      no      no     no  cellular   \n",
       "freq          2566     6351       5476   10994    5881   9702      8042   \n",
       "\n",
       "        month poutcome deposit  \n",
       "count   11162    11162   11162  \n",
       "unique     12        4       2  \n",
       "top       may  unknown      no  \n",
       "freq     2824     8326    5873  "
      ]
     },
     "execution_count": 7,
     "metadata": {},
     "output_type": "execute_result"
    }
   ],
   "source": [
    "# describe catagorical numerical columns\n",
    "df.describe(include='O')"
   ]
  },
  {
   "cell_type": "code",
   "execution_count": 8,
   "metadata": {},
   "outputs": [
    {
     "name": "stdout",
     "output_type": "stream",
     "text": [
      "job = ['admin.' 'technician' 'services' 'management' 'retired' 'blue-collar'\n",
      " 'unemployed' 'entrepreneur' 'housemaid' 'unknown' 'self-employed'\n",
      " 'student']\n",
      "marital = ['married' 'single' 'divorced']\n",
      "education = ['secondary' 'tertiary' 'primary' 'unknown']\n",
      "default = ['no' 'yes']\n",
      "housing = ['yes' 'no']\n",
      "loan = ['no' 'yes']\n",
      "contact = ['unknown' 'cellular' 'telephone']\n",
      "month = ['may' 'jun' 'jul' 'aug' 'oct' 'nov' 'dec' 'jan' 'feb' 'mar' 'apr' 'sep']\n",
      "poutcome = ['unknown' 'other' 'failure' 'success']\n",
      "deposit = ['yes' 'no']\n"
     ]
    }
   ],
   "source": [
    "# checking the unique items in catagorical features\n",
    "for col in df.select_dtypes(include='object').columns:\n",
    "    print(col,'=',df[col].unique())\n",
    "    "
   ]
  },
  {
   "cell_type": "code",
   "execution_count": 9,
   "metadata": {},
   "outputs": [
    {
     "data": {
      "text/plain": [
       "(5873, 17)"
      ]
     },
     "execution_count": 9,
     "metadata": {},
     "output_type": "execute_result"
    }
   ],
   "source": [
    "df[df.deposit=='no'].shape"
   ]
  },
  {
   "cell_type": "code",
   "execution_count": 10,
   "metadata": {},
   "outputs": [
    {
     "data": {
      "text/plain": [
       "(5289, 17)"
      ]
     },
     "execution_count": 10,
     "metadata": {},
     "output_type": "execute_result"
    }
   ],
   "source": [
    "df[df.deposit=='yes'].shape"
   ]
  },
  {
   "cell_type": "markdown",
   "metadata": {},
   "source": [
    "# Exploratory Data Analysis"
   ]
  },
  {
   "cell_type": "markdown",
   "metadata": {},
   "source": [
    "#### Steps followed:\n",
    "- Find Unwanted Columns\n",
    "- Find Missing Values\n",
    "- Find Features with one value\n",
    "- Explore the Categorical Features\n",
    "- Find Categorical Feature Distribution\n",
    "- Relationship between Categorical Features and Label\n",
    "- Explore the Numerical Features\n",
    "- Find Discrete Numerical Features\n",
    "- Relation between Discrete numerical Features and Labels\n",
    "- Find Continous Numerical Features\n",
    "- Distribution of Continous Numerical Features\n",
    "- Relation between Continous numerical Features and Labels\n",
    "- Find Outliers in numerical features\n",
    "- Explore the Correlation between numerical features\n",
    "- Find Pair Plot\n",
    "- Check the Data set is balanced or not based on target values in classification"
   ]
  },
  {
   "cell_type": "markdown",
   "metadata": {},
   "source": [
    "**1. Find Unwanted Columns**"
   ]
  },
  {
   "cell_type": "markdown",
   "metadata": {},
   "source": [
    "**Take-away**:\n",
    "- these is no unwanted column present in given dataset to remove"
   ]
  },
  {
   "cell_type": "markdown",
   "metadata": {},
   "source": [
    "**2. Find Missing Values**"
   ]
  },
  {
   "cell_type": "code",
   "execution_count": 11,
   "metadata": {},
   "outputs": [
    {
     "name": "stdout",
     "output_type": "stream",
     "text": [
      "No missing value found\n"
     ]
    }
   ],
   "source": [
    "# find missing values\n",
    "features_na = [features for features in df.columns if df[features].isnull().sum() > 0]\n",
    "for feature in features_na:\n",
    "    print(feature, np.round(df[feature].isnull().mean(), 4),  ' % missing values')\n",
    "else:\n",
    "    print(\"No missing value found\")"
   ]
  },
  {
   "cell_type": "markdown",
   "metadata": {},
   "source": [
    "**Take-away**:\n",
    "- No missing value found"
   ]
  },
  {
   "cell_type": "markdown",
   "metadata": {},
   "source": [
    "**3. Find Features with One Value**"
   ]
  },
  {
   "cell_type": "code",
   "execution_count": 12,
   "metadata": {},
   "outputs": [
    {
     "name": "stdout",
     "output_type": "stream",
     "text": [
      "age 76\n",
      "job 12\n",
      "marital 3\n",
      "education 4\n",
      "default 2\n",
      "balance 3805\n",
      "housing 2\n",
      "loan 2\n",
      "contact 3\n",
      "day 31\n",
      "month 12\n",
      "duration 1428\n",
      "campaign 36\n",
      "pdays 472\n",
      "previous 34\n",
      "poutcome 4\n",
      "deposit 2\n"
     ]
    }
   ],
   "source": [
    "for column in df.columns:\n",
    "    print(column,df[column].nunique())"
   ]
  },
  {
   "cell_type": "markdown",
   "metadata": {},
   "source": [
    "**Take-away**:\n",
    "- No feature with only one value"
   ]
  },
  {
   "cell_type": "markdown",
   "metadata": {},
   "source": [
    "**4. Explore the Categorical Features**"
   ]
  },
  {
   "cell_type": "code",
   "execution_count": 13,
   "metadata": {},
   "outputs": [
    {
     "data": {
      "text/plain": [
       "['job',\n",
       " 'marital',\n",
       " 'education',\n",
       " 'default',\n",
       " 'housing',\n",
       " 'loan',\n",
       " 'contact',\n",
       " 'month',\n",
       " 'poutcome']"
      ]
     },
     "execution_count": 13,
     "metadata": {},
     "output_type": "execute_result"
    }
   ],
   "source": [
    "categorical_features=[feature for feature in df.columns if ((df[feature].dtypes=='O') & (feature not in ['deposit']))]\n",
    "categorical_features"
   ]
  },
  {
   "cell_type": "code",
   "execution_count": 14,
   "metadata": {},
   "outputs": [
    {
     "name": "stdout",
     "output_type": "stream",
     "text": [
      "The feature is job and number of categories are 12\n",
      "The feature is marital and number of categories are 3\n",
      "The feature is education and number of categories are 4\n",
      "The feature is default and number of categories are 2\n",
      "The feature is housing and number of categories are 2\n",
      "The feature is loan and number of categories are 2\n",
      "The feature is contact and number of categories are 3\n",
      "The feature is month and number of categories are 12\n",
      "The feature is poutcome and number of categories are 4\n"
     ]
    }
   ],
   "source": [
    "for feature in categorical_features:\n",
    "    print('The feature is {} and number of categories are {}'.format(feature,df[feature].nunique()))"
   ]
  },
  {
   "cell_type": "markdown",
   "metadata": {},
   "source": [
    "**Take-away**:\n",
    "- there are 9 categorical features\n",
    "- feature job and month has highest number of categorical values"
   ]
  },
  {
   "cell_type": "markdown",
   "metadata": {},
   "source": [
    "**5. Find Categorical Feature Distribution**"
   ]
  },
  {
   "cell_type": "code",
   "execution_count": 15,
   "metadata": {},
   "outputs": [
    {
     "data": {
      "image/png": "[encoded data removed]",
      "text/plain": [
       "<Figure size 1440x5760 with 9 Axes>"
      ]
     },
     "metadata": {},
     "output_type": "display_data"
    }
   ],
   "source": [
    "#check count based on categorical features\n",
    "plt.figure(figsize=(20,80), facecolor='white')\n",
    "plotnumber =1\n",
    "for categorical_feature in categorical_features:\n",
    "    ax = plt.subplot(12,3,plotnumber)\n",
    "    plt.title(categorical_feature,fontsize=16)\n",
    "    plt.xlabel('frequency',fontsize=12)\n",
    "    \n",
    "    sns.countplot(y=categorical_feature,data=df)\n",
    "    plotnumber+=1\n",
    "plt.show()"
   ]
  },
  {
   "cell_type": "markdown",
   "metadata": {},
   "source": [
    "**Take-away**:\n",
    "- client with job type as management records are high in given dataset and housemaid are very less\n",
    "- client who married are high in records in given dataset and divorced are less\n",
    "- client whoes education background is secondary are in high numbers in given dataset\n",
    "- defualt feature seems to be does not play importand role as it has value of no at high ratio to value yes which can drop\n",
    "- data in month of may is high and less in dec"
   ]
  },
  {
   "cell_type": "markdown",
   "metadata": {},
   "source": [
    "**6. Relationship between Categorical Features and Label**"
   ]
  },
  {
   "cell_type": "code",
   "execution_count": 16,
   "metadata": {},
   "outputs": [
    {
     "data": {
      "image/png": "[encoded data removed]",
      "text/plain": [
       "<Figure size 4320x360 with 12 Axes>"
      ]
     },
     "metadata": {
      "needs_background": "light"
     },
     "output_type": "display_data"
    },
    {
     "data": {
      "image/png": "[encoded data removed]",
      "text/plain": [
       "<Figure size 1080x360 with 3 Axes>"
      ]
     },
     "metadata": {
      "needs_background": "light"
     },
     "output_type": "display_data"
    },
    {
     "data": {
      "image/png": "[encoded data removed]",
      "text/plain": [
       "<Figure size 1440x360 with 4 Axes>"
      ]
     },
     "metadata": {
      "needs_background": "light"
     },
     "output_type": "display_data"
    },
    {
     "data": {
      "image/png": "[encoded data removed]",
      "text/plain": [
       "<Figure size 720x360 with 2 Axes>"
      ]
     },
     "metadata": {
      "needs_background": "light"
     },
     "output_type": "display_data"
    },
    {
     "data": {
      "image/png": "[encoded data removed]",
      "text/plain": [
       "<Figure size 720x360 with 2 Axes>"
      ]
     },
     "metadata": {
      "needs_background": "light"
     },
     "output_type": "display_data"
    },
    {
     "data": {
      "image/png": "[encoded data removed]",
      "text/plain": [
       "<Figure size 720x360 with 2 Axes>"
      ]
     },
     "metadata": {
      "needs_background": "light"
     },
     "output_type": "display_data"
    },
    {
     "data": {
      "image/png": "[encoded data removed]",
      "text/plain": [
       "<Figure size 1080x360 with 3 Axes>"
      ]
     },
     "metadata": {
      "needs_background": "light"
     },
     "output_type": "display_data"
    },
    {
     "data": {
      "image/png": "[encoded data removed]",
      "text/plain": [
       "<Figure size 4320x360 with 12 Axes>"
      ]
     },
     "metadata": {
      "needs_background": "light"
     },
     "output_type": "display_data"
    },
    {
     "data": {
      "image/png": "[encoded data removed]",
      "text/plain": [
       "<Figure size 1440x360 with 4 Axes>"
      ]
     },
     "metadata": {
      "needs_background": "light"
     },
     "output_type": "display_data"
    }
   ],
   "source": [
    "#check target label split over categorical features\n",
    "#Find out the relationship between categorical variable and dependent variable\n",
    "for categorical_feature in categorical_features:\n",
    "    sns.catplot(x='deposit', col=categorical_feature, kind='count', data= df)\n",
    "plt.show()"
   ]
  },
  {
   "cell_type": "code",
   "execution_count": 17,
   "metadata": {},
   "outputs": [
    {
     "name": "stdout",
     "output_type": "stream",
     "text": [
      "deposit  job          \n",
      "no       admin.            703\n",
      "         blue-collar      1236\n",
      "         entrepreneur      205\n",
      "         housemaid         165\n",
      "         management       1265\n",
      "         retired           262\n",
      "         self-employed     218\n",
      "         services          554\n",
      "         student            91\n",
      "         technician        983\n",
      "         unemployed        155\n",
      "         unknown            36\n",
      "yes      admin.            631\n",
      "         blue-collar       708\n",
      "         entrepreneur      123\n",
      "         housemaid         109\n",
      "         management       1301\n",
      "         retired           516\n",
      "         self-employed     187\n",
      "         services          369\n",
      "         student           269\n",
      "         technician        840\n",
      "         unemployed        202\n",
      "         unknown            34\n",
      "dtype: int64\n",
      "deposit  marital \n",
      "no       divorced     671\n",
      "         married     3596\n",
      "         single      1606\n",
      "yes      divorced     622\n",
      "         married     2755\n",
      "         single      1912\n",
      "dtype: int64\n",
      "deposit  education\n",
      "no       primary       909\n",
      "         secondary    3026\n",
      "         tertiary     1693\n",
      "         unknown       245\n",
      "yes      primary       591\n",
      "         secondary    2450\n",
      "         tertiary     1996\n",
      "         unknown       252\n",
      "dtype: int64\n",
      "deposit  default\n",
      "no       no         5757\n",
      "         yes         116\n",
      "yes      no         5237\n",
      "         yes          52\n",
      "dtype: int64\n",
      "deposit  housing\n",
      "no       no         2527\n",
      "         yes        3346\n",
      "yes      no         3354\n",
      "         yes        1935\n",
      "dtype: int64\n",
      "deposit  loan\n",
      "no       no      4897\n",
      "         yes      976\n",
      "yes      no      4805\n",
      "         yes      484\n",
      "dtype: int64\n",
      "deposit  contact  \n",
      "no       cellular     3673\n",
      "         telephone     384\n",
      "         unknown      1816\n",
      "yes      cellular     4369\n",
      "         telephone     390\n",
      "         unknown       530\n",
      "dtype: int64\n",
      "deposit  month\n",
      "no       apr       346\n",
      "         aug       831\n",
      "         dec        10\n",
      "         feb       335\n",
      "         jan       202\n",
      "         jul       887\n",
      "         jun       676\n",
      "         mar        28\n",
      "         may      1899\n",
      "         nov       540\n",
      "         oct        69\n",
      "         sep        50\n",
      "yes      apr       577\n",
      "         aug       688\n",
      "         dec       100\n",
      "         feb       441\n",
      "         jan       142\n",
      "         jul       627\n",
      "         jun       546\n",
      "         mar       248\n",
      "         may       925\n",
      "         nov       403\n",
      "         oct       323\n",
      "         sep       269\n",
      "dtype: int64\n",
      "deposit  poutcome\n",
      "no       failure      610\n",
      "         other        230\n",
      "         success       93\n",
      "         unknown     4940\n",
      "yes      failure      618\n",
      "         other        307\n",
      "         success      978\n",
      "         unknown     3386\n",
      "dtype: int64\n"
     ]
    }
   ],
   "source": [
    "#Check target label split over categorical features and find the count\n",
    "for categorical_feature in categorical_features:\n",
    "    print(df.groupby(['deposit',categorical_feature]).size())"
   ]
  },
  {
   "cell_type": "markdown",
   "metadata": {},
   "source": [
    "**Take-away**:\n",
    "- retired client has high interest on deposit\n",
    "- client who has housing loan seems to be not interested much on deposit\n",
    "- if pre campagin outcome that is poutcome=success then, there is high chance of client to show interest on deposit\n",
    "- in month of March, September, October and December, client show high interest to deposit\n",
    "- in month of may, records are high but client interst ratio is very less"
   ]
  },
  {
   "cell_type": "markdown",
   "metadata": {},
   "source": [
    "**7. Explore the Numerical Features**"
   ]
  },
  {
   "cell_type": "code",
   "execution_count": 18,
   "metadata": {},
   "outputs": [
    {
     "name": "stdout",
     "output_type": "stream",
     "text": [
      "Number of numerical variables:  7\n"
     ]
    },
    {
     "data": {
      "text/html": [
       "<div>\n",
       "<style scoped>\n",
       "    .dataframe tbody tr th:only-of-type {\n",
       "        vertical-align: middle;\n",
       "    }\n",
       "\n",
       "    .dataframe tbody tr th {\n",
       "        vertical-align: top;\n",
       "    }\n",
       "\n",
       "    .dataframe thead th {\n",
       "        text-align: right;\n",
       "    }\n",
       "</style>\n",
       "<table border=\"1\" class=\"dataframe\">\n",
       "  <thead>\n",
       "    <tr style=\"text-align: right;\">\n",
       "      <th></th>\n",
       "      <th>age</th>\n",
       "      <th>balance</th>\n",
       "      <th>day</th>\n",
       "      <th>duration</th>\n",
       "      <th>campaign</th>\n",
       "      <th>pdays</th>\n",
       "      <th>previous</th>\n",
       "    </tr>\n",
       "  </thead>\n",
       "  <tbody>\n",
       "    <tr>\n",
       "      <th>0</th>\n",
       "      <td>59</td>\n",
       "      <td>2343</td>\n",
       "      <td>5</td>\n",
       "      <td>1042</td>\n",
       "      <td>1</td>\n",
       "      <td>-1</td>\n",
       "      <td>0</td>\n",
       "    </tr>\n",
       "    <tr>\n",
       "      <th>1</th>\n",
       "      <td>56</td>\n",
       "      <td>45</td>\n",
       "      <td>5</td>\n",
       "      <td>1467</td>\n",
       "      <td>1</td>\n",
       "      <td>-1</td>\n",
       "      <td>0</td>\n",
       "    </tr>\n",
       "    <tr>\n",
       "      <th>2</th>\n",
       "      <td>41</td>\n",
       "      <td>1270</td>\n",
       "      <td>5</td>\n",
       "      <td>1389</td>\n",
       "      <td>1</td>\n",
       "      <td>-1</td>\n",
       "      <td>0</td>\n",
       "    </tr>\n",
       "    <tr>\n",
       "      <th>3</th>\n",
       "      <td>55</td>\n",
       "      <td>2476</td>\n",
       "      <td>5</td>\n",
       "      <td>579</td>\n",
       "      <td>1</td>\n",
       "      <td>-1</td>\n",
       "      <td>0</td>\n",
       "    </tr>\n",
       "    <tr>\n",
       "      <th>4</th>\n",
       "      <td>54</td>\n",
       "      <td>184</td>\n",
       "      <td>5</td>\n",
       "      <td>673</td>\n",
       "      <td>2</td>\n",
       "      <td>-1</td>\n",
       "      <td>0</td>\n",
       "    </tr>\n",
       "  </tbody>\n",
       "</table>\n",
       "</div>"
      ],
      "text/plain": [
       "   age  balance  day  duration  campaign  pdays  previous\n",
       "0   59     2343    5      1042         1     -1         0\n",
       "1   56       45    5      1467         1     -1         0\n",
       "2   41     1270    5      1389         1     -1         0\n",
       "3   55     2476    5       579         1     -1         0\n",
       "4   54      184    5       673         2     -1         0"
      ]
     },
     "execution_count": 18,
     "metadata": {},
     "output_type": "execute_result"
    }
   ],
   "source": [
    "# list of numerical variables\n",
    "numerical_features = [feature for feature in df.columns if ((df[feature].dtypes != 'O') & (feature not in ['deposit']))]\n",
    "print('Number of numerical variables: ', len(numerical_features))\n",
    "\n",
    "# visualise the numerical variables\n",
    "df[numerical_features].head()"
   ]
  },
  {
   "cell_type": "markdown",
   "metadata": {},
   "source": [
    "**Take-away**:\n",
    "- there are 7 numerical features"
   ]
  },
  {
   "cell_type": "markdown",
   "metadata": {},
   "source": [
    "**8. Find Discrete Numerical Features**"
   ]
  },
  {
   "cell_type": "code",
   "execution_count": 19,
   "metadata": {},
   "outputs": [
    {
     "name": "stdout",
     "output_type": "stream",
     "text": [
      "Discrete Variables Count: 0\n"
     ]
    }
   ],
   "source": [
    "discrete_feature=[feature for feature in numerical_features if len(df[feature].unique())<25]\n",
    "print(\"Discrete Variables Count: {}\".format(len(discrete_feature)))"
   ]
  },
  {
   "cell_type": "markdown",
   "metadata": {},
   "source": [
    "**Take-away**:\n",
    "- there is no Discrete Variables in give dataset"
   ]
  },
  {
   "cell_type": "markdown",
   "metadata": {},
   "source": [
    "**9. Relation between Discrete numerical Features and Labels**\n",
    "- No discrete found\n"
   ]
  },
  {
   "cell_type": "markdown",
   "metadata": {},
   "source": [
    "**10. Find Continous Numerical Features**"
   ]
  },
  {
   "cell_type": "code",
   "execution_count": 20,
   "metadata": {},
   "outputs": [
    {
     "name": "stdout",
     "output_type": "stream",
     "text": [
      "Continuous feature Count 7\n"
     ]
    }
   ],
   "source": [
    "continuous_features=[feature for feature in numerical_features if feature not in discrete_feature+['deposit']]\n",
    "print(\"Continuous feature Count {}\".format(len(continuous_features)))"
   ]
  },
  {
   "cell_type": "markdown",
   "metadata": {},
   "source": [
    "**Take-away**:\n",
    "- there are 7 continuous numerical features"
   ]
  },
  {
   "cell_type": "markdown",
   "metadata": {},
   "source": [
    "**11. Distribution of Continous Numerical Features**"
   ]
  },
  {
   "cell_type": "code",
   "execution_count": 21,
   "metadata": {},
   "outputs": [
    {
     "data": {
      "image/png": "[encoded data removed]",
      "text/plain": [
       "<Figure size 1440x4320 with 7 Axes>"
      ]
     },
     "metadata": {},
     "output_type": "display_data"
    }
   ],
   "source": [
    "#plot a univariate distribution of continues observations\n",
    "plt.figure(figsize=(20,60), facecolor='white')\n",
    "plotnumber =1\n",
    "for continuous_feature in continuous_features:\n",
    "    ax = plt.subplot(12,3,plotnumber)\n",
    "    sns.distplot(df[continuous_feature])\n",
    "    plt.xlabel(continuous_feature)\n",
    "    plotnumber+=1\n",
    "plt.show()"
   ]
  },
  {
   "cell_type": "markdown",
   "metadata": {},
   "source": [
    "**Take-away**: \n",
    "- it seems age, days distributed normally\n",
    "- balance, duration, compaign, pdays and previous heavely skewed towards left and seems to be have some outliers."
   ]
  },
  {
   "cell_type": "markdown",
   "metadata": {},
   "source": [
    "**12. Relation between Continous numerical Features and Labels**"
   ]
  },
  {
   "cell_type": "code",
   "execution_count": 22,
   "metadata": {},
   "outputs": [
    {
     "data": {
      "image/png": "[encoded data removed]",
      "text/plain": [
       "<Figure size 1440x4320 with 7 Axes>"
      ]
     },
     "metadata": {},
     "output_type": "display_data"
    }
   ],
   "source": [
    "#boxplot to show target distribution with respect numerical features\n",
    "plt.figure(figsize=(20,60), facecolor='white')\n",
    "plotnumber =1\n",
    "for feature in continuous_features:\n",
    "    ax = plt.subplot(12,3,plotnumber)\n",
    "    sns.boxplot(x=\"deposit\", y= df[feature], data=df)\n",
    "    plt.xlabel('deposit')\n",
    "    plotnumber+=1\n",
    "plt.show()"
   ]
  },
  {
   "cell_type": "markdown",
   "metadata": {},
   "source": [
    "**Take-away**:\n",
    "- client shows interest on deposit who had discussion for longer duration"
   ]
  },
  {
   "cell_type": "markdown",
   "metadata": {},
   "source": [
    "**13. Find Outliers in numerical features**"
   ]
  },
  {
   "cell_type": "code",
   "execution_count": 23,
   "metadata": {},
   "outputs": [
    {
     "data": {
      "image/png": "[encoded data removed]",
      "text/plain": [
       "<Figure size 1440x4320 with 7 Axes>"
      ]
     },
     "metadata": {},
     "output_type": "display_data"
    }
   ],
   "source": [
    "#boxplot on numerical features to find outliers\n",
    "plt.figure(figsize=(20,60), facecolor='white')\n",
    "plotnumber =1\n",
    "for numerical_feature in numerical_features:\n",
    "    ax = plt.subplot(12,3,plotnumber)\n",
    "    sns.boxplot(df[numerical_feature])\n",
    "    plt.xlabel(numerical_feature)\n",
    "    plotnumber+=1\n",
    "plt.show()"
   ]
  },
  {
   "cell_type": "markdown",
   "metadata": {},
   "source": [
    "**Take-away**:\n",
    "- age, balance, duration, compaign, pdays and previous has some outliers"
   ]
  },
  {
   "cell_type": "markdown",
   "metadata": {},
   "source": [
    "**14. Explore the Correlation between numerical features**"
   ]
  },
  {
   "cell_type": "code",
   "execution_count": 24,
   "metadata": {},
   "outputs": [
    {
     "data": {
      "text/plain": [
       "<AxesSubplot:>"
      ]
     },
     "execution_count": 24,
     "metadata": {},
     "output_type": "execute_result"
    },
    {
     "data": {
      "image/png": "[encoded data removed]",
      "text/plain": [
       "<Figure size 1080x504 with 2 Axes>"
      ]
     },
     "metadata": {
      "needs_background": "light"
     },
     "output_type": "display_data"
    }
   ],
   "source": [
    "## Checking for correlation\n",
    "cor_mat=df.corr()\n",
    "fig = plt.figure(figsize=(15,7))\n",
    "sns.heatmap(cor_mat,annot=True)"
   ]
  },
  {
   "cell_type": "markdown",
   "metadata": {},
   "source": [
    "**Take-away**: \n",
    "- it seems no feature is heavily correlated with other features"
   ]
  },
  {
   "cell_type": "markdown",
   "metadata": {},
   "source": [
    "**15. Check the Data set is balanced or not based on target values in classification**"
   ]
  },
  {
   "cell_type": "code",
   "execution_count": 25,
   "metadata": {},
   "outputs": [
    {
     "data": {
      "image/png": "[encoded data removed]",
      "text/plain": [
       "<Figure size 432x288 with 1 Axes>"
      ]
     },
     "metadata": {
      "needs_background": "light"
     },
     "output_type": "display_data"
    }
   ],
   "source": [
    "#total patient count based on cardio_results\n",
    "sns.countplot(x='deposit',data=df)\n",
    "plt.show()"
   ]
  },
  {
   "cell_type": "code",
   "execution_count": 26,
   "metadata": {},
   "outputs": [
    {
     "data": {
      "text/plain": [
       "deposit\n",
       "no     5873\n",
       "yes    5289\n",
       "Name: deposit, dtype: int64"
      ]
     },
     "execution_count": 26,
     "metadata": {},
     "output_type": "execute_result"
    }
   ],
   "source": [
    "df['deposit'].groupby(df['deposit']).count()"
   ]
  },
  {
   "cell_type": "markdown",
   "metadata": {},
   "source": [
    "# Feature Engineering"
   ]
  },
  {
   "cell_type": "markdown",
   "metadata": {},
   "source": [
    "### Steps:\n",
    "- Drop unwanted Features\n",
    "- Handle Missing Values\n",
    "- Handle Categorical Features\n",
    "- Handle Feature Scalling\n",
    "- Remove Outliers"
   ]
  },
  {
   "cell_type": "markdown",
   "metadata": {},
   "source": [
    "As per Exploratory Data Analysis EDA, \n",
    "- no missing value found\n",
    "- no feature found with one value\n",
    "- 9 categorical features\n",
    "- defaut features does not play imp role\n",
    "- it seems some outliers found (age, balance, duration, compaign, pdays and previous has some outliers)"
   ]
  },
  {
   "cell_type": "code",
   "execution_count": 27,
   "metadata": {},
   "outputs": [],
   "source": [
    "df2=df.copy()"
   ]
  },
  {
   "cell_type": "code",
   "execution_count": 28,
   "metadata": {},
   "outputs": [
    {
     "data": {
      "text/html": [
       "<div>\n",
       "<style scoped>\n",
       "    .dataframe tbody tr th:only-of-type {\n",
       "        vertical-align: middle;\n",
       "    }\n",
       "\n",
       "    .dataframe tbody tr th {\n",
       "        vertical-align: top;\n",
       "    }\n",
       "\n",
       "    .dataframe thead th {\n",
       "        text-align: right;\n",
       "    }\n",
       "</style>\n",
       "<table border=\"1\" class=\"dataframe\">\n",
       "  <thead>\n",
       "    <tr style=\"text-align: right;\">\n",
       "      <th></th>\n",
       "      <th>age</th>\n",
       "      <th>job</th>\n",
       "      <th>marital</th>\n",
       "      <th>education</th>\n",
       "      <th>default</th>\n",
       "      <th>balance</th>\n",
       "      <th>housing</th>\n",
       "      <th>loan</th>\n",
       "      <th>contact</th>\n",
       "      <th>day</th>\n",
       "      <th>month</th>\n",
       "      <th>duration</th>\n",
       "      <th>campaign</th>\n",
       "      <th>pdays</th>\n",
       "      <th>previous</th>\n",
       "      <th>poutcome</th>\n",
       "      <th>deposit</th>\n",
       "    </tr>\n",
       "  </thead>\n",
       "  <tbody>\n",
       "    <tr>\n",
       "      <th>0</th>\n",
       "      <td>59</td>\n",
       "      <td>admin.</td>\n",
       "      <td>married</td>\n",
       "      <td>secondary</td>\n",
       "      <td>no</td>\n",
       "      <td>2343</td>\n",
       "      <td>yes</td>\n",
       "      <td>no</td>\n",
       "      <td>unknown</td>\n",
       "      <td>5</td>\n",
       "      <td>may</td>\n",
       "      <td>1042</td>\n",
       "      <td>1</td>\n",
       "      <td>-1</td>\n",
       "      <td>0</td>\n",
       "      <td>unknown</td>\n",
       "      <td>yes</td>\n",
       "    </tr>\n",
       "    <tr>\n",
       "      <th>1</th>\n",
       "      <td>56</td>\n",
       "      <td>admin.</td>\n",
       "      <td>married</td>\n",
       "      <td>secondary</td>\n",
       "      <td>no</td>\n",
       "      <td>45</td>\n",
       "      <td>no</td>\n",
       "      <td>no</td>\n",
       "      <td>unknown</td>\n",
       "      <td>5</td>\n",
       "      <td>may</td>\n",
       "      <td>1467</td>\n",
       "      <td>1</td>\n",
       "      <td>-1</td>\n",
       "      <td>0</td>\n",
       "      <td>unknown</td>\n",
       "      <td>yes</td>\n",
       "    </tr>\n",
       "    <tr>\n",
       "      <th>2</th>\n",
       "      <td>41</td>\n",
       "      <td>technician</td>\n",
       "      <td>married</td>\n",
       "      <td>secondary</td>\n",
       "      <td>no</td>\n",
       "      <td>1270</td>\n",
       "      <td>yes</td>\n",
       "      <td>no</td>\n",
       "      <td>unknown</td>\n",
       "      <td>5</td>\n",
       "      <td>may</td>\n",
       "      <td>1389</td>\n",
       "      <td>1</td>\n",
       "      <td>-1</td>\n",
       "      <td>0</td>\n",
       "      <td>unknown</td>\n",
       "      <td>yes</td>\n",
       "    </tr>\n",
       "    <tr>\n",
       "      <th>3</th>\n",
       "      <td>55</td>\n",
       "      <td>services</td>\n",
       "      <td>married</td>\n",
       "      <td>secondary</td>\n",
       "      <td>no</td>\n",
       "      <td>2476</td>\n",
       "      <td>yes</td>\n",
       "      <td>no</td>\n",
       "      <td>unknown</td>\n",
       "      <td>5</td>\n",
       "      <td>may</td>\n",
       "      <td>579</td>\n",
       "      <td>1</td>\n",
       "      <td>-1</td>\n",
       "      <td>0</td>\n",
       "      <td>unknown</td>\n",
       "      <td>yes</td>\n",
       "    </tr>\n",
       "    <tr>\n",
       "      <th>4</th>\n",
       "      <td>54</td>\n",
       "      <td>admin.</td>\n",
       "      <td>married</td>\n",
       "      <td>tertiary</td>\n",
       "      <td>no</td>\n",
       "      <td>184</td>\n",
       "      <td>no</td>\n",
       "      <td>no</td>\n",
       "      <td>unknown</td>\n",
       "      <td>5</td>\n",
       "      <td>may</td>\n",
       "      <td>673</td>\n",
       "      <td>2</td>\n",
       "      <td>-1</td>\n",
       "      <td>0</td>\n",
       "      <td>unknown</td>\n",
       "      <td>yes</td>\n",
       "    </tr>\n",
       "  </tbody>\n",
       "</table>\n",
       "</div>"
      ],
      "text/plain": [
       "   age         job  marital  education default  balance housing loan  contact  \\\n",
       "0   59      admin.  married  secondary      no     2343     yes   no  unknown   \n",
       "1   56      admin.  married  secondary      no       45      no   no  unknown   \n",
       "2   41  technician  married  secondary      no     1270     yes   no  unknown   \n",
       "3   55    services  married  secondary      no     2476     yes   no  unknown   \n",
       "4   54      admin.  married   tertiary      no      184      no   no  unknown   \n",
       "\n",
       "   day month  duration  campaign  pdays  previous poutcome deposit  \n",
       "0    5   may      1042         1     -1         0  unknown     yes  \n",
       "1    5   may      1467         1     -1         0  unknown     yes  \n",
       "2    5   may      1389         1     -1         0  unknown     yes  \n",
       "3    5   may       579         1     -1         0  unknown     yes  \n",
       "4    5   may       673         2     -1         0  unknown     yes  "
      ]
     },
     "execution_count": 28,
     "metadata": {},
     "output_type": "execute_result"
    }
   ],
   "source": [
    "df2.head()"
   ]
  },
  {
   "cell_type": "code",
   "execution_count": 29,
   "metadata": {},
   "outputs": [
    {
     "data": {
      "text/plain": [
       "(11162, 17)"
      ]
     },
     "execution_count": 29,
     "metadata": {},
     "output_type": "execute_result"
    }
   ],
   "source": [
    "df2.shape"
   ]
  },
  {
   "cell_type": "code",
   "execution_count": 30,
   "metadata": {},
   "outputs": [
    {
     "data": {
      "text/plain": [
       "deposit  default\n",
       "no       no         5757\n",
       "         yes         116\n",
       "yes      no         5237\n",
       "         yes          52\n",
       "dtype: int64"
      ]
     },
     "execution_count": 30,
     "metadata": {},
     "output_type": "execute_result"
    }
   ],
   "source": [
    "#defaut features does not play imp role\n",
    "df2.groupby(['deposit','default']).size()"
   ]
  },
  {
   "cell_type": "code",
   "execution_count": 31,
   "metadata": {},
   "outputs": [],
   "source": [
    "df2.drop(['default'],axis=1, inplace=True)"
   ]
  },
  {
   "cell_type": "code",
   "execution_count": 32,
   "metadata": {},
   "outputs": [
    {
     "data": {
      "text/plain": [
       "deposit  pdays\n",
       "no       -1       4940\n",
       "          1          2\n",
       "          2          6\n",
       "          5          2\n",
       "          6          2\n",
       "                  ... \n",
       "yes       804        1\n",
       "          805        1\n",
       "          828        1\n",
       "          842        1\n",
       "          854        1\n",
       "Length: 732, dtype: int64"
      ]
     },
     "execution_count": 32,
     "metadata": {},
     "output_type": "execute_result"
    }
   ],
   "source": [
    "df2.groupby(['deposit','pdays']).size()"
   ]
  },
  {
   "cell_type": "code",
   "execution_count": 33,
   "metadata": {},
   "outputs": [],
   "source": [
    "# drop pdays as it has -1 value for around 40%+ \n",
    "df2.drop(['pdays'],axis=1, inplace=True)"
   ]
  },
  {
   "cell_type": "code",
   "execution_count": 34,
   "metadata": {},
   "outputs": [
    {
     "data": {
      "text/plain": [
       "age\n",
       "18     8\n",
       "19    13\n",
       "20    20\n",
       "21    30\n",
       "22    48\n",
       "      ..\n",
       "89     1\n",
       "90     2\n",
       "92     2\n",
       "93     2\n",
       "95     1\n",
       "Name: age, Length: 76, dtype: int64"
      ]
     },
     "execution_count": 34,
     "metadata": {},
     "output_type": "execute_result"
    }
   ],
   "source": [
    "# remove outliers in feature age...\n",
    "df2.groupby('age',sort=True)['age'].count()\n",
    "# these can be ignored and values lies in between 18 to 95"
   ]
  },
  {
   "cell_type": "code",
   "execution_count": 35,
   "metadata": {},
   "outputs": [
    {
     "data": {
      "text/plain": [
       "deposit  balance\n",
       "no       -6847      1\n",
       "         -2712      1\n",
       "         -2282      1\n",
       "         -2049      1\n",
       "         -1965      1\n",
       "                   ..\n",
       "yes       34646     1\n",
       "          36252     1\n",
       "          45248     1\n",
       "          52587     2\n",
       "          81204     2\n",
       "Name: balance, Length: 5082, dtype: int64"
      ]
     },
     "execution_count": 35,
     "metadata": {},
     "output_type": "execute_result"
    }
   ],
   "source": [
    "# remove outliers in feature balance...\n",
    "df2.groupby(['deposit','balance'],sort=True)['balance'].count()\n",
    "# these outlier should not be remove as balance goes high, client show interest on deposit"
   ]
  },
  {
   "cell_type": "code",
   "execution_count": 36,
   "metadata": {},
   "outputs": [
    {
     "data": {
      "text/plain": [
       "deposit  duration\n",
       "no       2           1\n",
       "         3           1\n",
       "         4           2\n",
       "         5           4\n",
       "         6           6\n",
       "                    ..\n",
       "yes      3094        1\n",
       "         3102        1\n",
       "         3183        1\n",
       "         3253        1\n",
       "         3881        1\n",
       "Name: duration, Length: 2157, dtype: int64"
      ]
     },
     "execution_count": 36,
     "metadata": {},
     "output_type": "execute_result"
    }
   ],
   "source": [
    "# remove outliers in feature duration...\n",
    "df2.groupby(['deposit','duration'],sort=True)['duration'].count()\n",
    "# these outlier should not be remove as duration goes high, client show interest on deposit"
   ]
  },
  {
   "cell_type": "code",
   "execution_count": 37,
   "metadata": {},
   "outputs": [
    {
     "data": {
      "text/plain": [
       "deposit  campaign\n",
       "no       1           2237\n",
       "         2           1627\n",
       "         3            703\n",
       "         4            454\n",
       "         5            239\n",
       "         6            173\n",
       "         7             92\n",
       "         8             96\n",
       "         9             51\n",
       "         10            38\n",
       "         11            24\n",
       "         12            25\n",
       "         13            24\n",
       "         14            11\n",
       "         15             9\n",
       "         16             7\n",
       "         17             8\n",
       "         18             8\n",
       "         19             5\n",
       "         20             4\n",
       "         21             7\n",
       "         22             4\n",
       "         23             3\n",
       "         24             4\n",
       "         25             3\n",
       "         26             3\n",
       "         27             1\n",
       "         28             1\n",
       "         29             1\n",
       "         30             4\n",
       "         31             1\n",
       "         32             1\n",
       "         33             1\n",
       "         41             1\n",
       "         43             2\n",
       "         63             1\n",
       "yes      1           2561\n",
       "         2           1401\n",
       "         3            618\n",
       "         4            317\n",
       "         5            139\n",
       "         6             92\n",
       "         7             47\n",
       "         8             32\n",
       "         9             21\n",
       "         10            14\n",
       "         11            16\n",
       "         12             4\n",
       "         13             6\n",
       "         14             4\n",
       "         15             4\n",
       "         16             2\n",
       "         17             6\n",
       "         20             1\n",
       "         21             1\n",
       "         24             1\n",
       "         29             1\n",
       "         32             1\n",
       "Name: campaign, dtype: int64"
      ]
     },
     "execution_count": 37,
     "metadata": {},
     "output_type": "execute_result"
    }
   ],
   "source": [
    "# remove outliers in feature campaign...\n",
    "df2.groupby(['deposit','campaign'],sort=True)['campaign'].count()"
   ]
  },
  {
   "cell_type": "code",
   "execution_count": 38,
   "metadata": {},
   "outputs": [],
   "source": [
    "df3 = df2[df2['campaign'] < 33] #we can see that it has outliers above 33"
   ]
  },
  {
   "cell_type": "code",
   "execution_count": 39,
   "metadata": {},
   "outputs": [
    {
     "data": {
      "text/plain": [
       "deposit  campaign\n",
       "no       1           2237\n",
       "         2           1627\n",
       "         3            703\n",
       "         4            454\n",
       "         5            239\n",
       "         6            173\n",
       "         7             92\n",
       "         8             96\n",
       "         9             51\n",
       "         10            38\n",
       "         11            24\n",
       "         12            25\n",
       "         13            24\n",
       "         14            11\n",
       "         15             9\n",
       "         16             7\n",
       "         17             8\n",
       "         18             8\n",
       "         19             5\n",
       "         20             4\n",
       "         21             7\n",
       "         22             4\n",
       "         23             3\n",
       "         24             4\n",
       "         25             3\n",
       "         26             3\n",
       "         27             1\n",
       "         28             1\n",
       "         29             1\n",
       "         30             4\n",
       "         31             1\n",
       "         32             1\n",
       "yes      1           2561\n",
       "         2           1401\n",
       "         3            618\n",
       "         4            317\n",
       "         5            139\n",
       "         6             92\n",
       "         7             47\n",
       "         8             32\n",
       "         9             21\n",
       "         10            14\n",
       "         11            16\n",
       "         12             4\n",
       "         13             6\n",
       "         14             4\n",
       "         15             4\n",
       "         16             2\n",
       "         17             6\n",
       "         20             1\n",
       "         21             1\n",
       "         24             1\n",
       "         29             1\n",
       "         32             1\n",
       "Name: campaign, dtype: int64"
      ]
     },
     "execution_count": 39,
     "metadata": {},
     "output_type": "execute_result"
    }
   ],
   "source": [
    "df3.groupby(['deposit','campaign'],sort=True)['campaign'].count()"
   ]
  },
  {
   "cell_type": "code",
   "execution_count": 40,
   "metadata": {},
   "outputs": [
    {
     "data": {
      "text/plain": [
       "deposit  previous\n",
       "no       0           4935\n",
       "         1            304\n",
       "         2            237\n",
       "         3            141\n",
       "         4             73\n",
       "         5             44\n",
       "         6             34\n",
       "         7             23\n",
       "         8             21\n",
       "         9             10\n",
       "         10             4\n",
       "         11             8\n",
       "         12             6\n",
       "         13             2\n",
       "         14             1\n",
       "         15             4\n",
       "         16             2\n",
       "         17             8\n",
       "         18             1\n",
       "         19             2\n",
       "         20             1\n",
       "         23             1\n",
       "         27             2\n",
       "         28             1\n",
       "         37             1\n",
       "         40             1\n",
       "         41             1\n",
       "yes      0           3384\n",
       "         1            583\n",
       "         2            456\n",
       "         3            294\n",
       "         4            171\n",
       "         5            121\n",
       "         6             83\n",
       "         7             54\n",
       "         8             39\n",
       "         9             24\n",
       "         10            26\n",
       "         11            15\n",
       "         12            10\n",
       "         13             9\n",
       "         14             5\n",
       "         15             1\n",
       "         17             3\n",
       "         19             2\n",
       "         20             1\n",
       "         21             1\n",
       "         22             1\n",
       "         23             1\n",
       "         26             1\n",
       "         29             1\n",
       "         30             1\n",
       "         55             1\n",
       "         58             1\n",
       "Name: previous, dtype: int64"
      ]
     },
     "execution_count": 40,
     "metadata": {},
     "output_type": "execute_result"
    }
   ],
   "source": [
    "# remove outliers in feature previous...\n",
    "df3.groupby(['deposit','previous'],sort=True)['previous'].count()"
   ]
  },
  {
   "cell_type": "code",
   "execution_count": 41,
   "metadata": {},
   "outputs": [],
   "source": [
    "df4 = df3[df3['previous'] < 31] #it has outliers above 31"
   ]
  },
  {
   "cell_type": "markdown",
   "metadata": {},
   "source": [
    "#### Handling catagorical feature"
   ]
  },
  {
   "cell_type": "code",
   "execution_count": 42,
   "metadata": {},
   "outputs": [],
   "source": [
    "cat_columns = ['job', 'marital', 'education', 'contact', 'month', 'poutcome']\n",
    "for col in  cat_columns:\n",
    "    df4 = pd.concat([df4.drop(col, axis=1),pd.get_dummies(df4[col], prefix=col, prefix_sep='_',drop_first=True, dummy_na=False)], axis=1)"
   ]
  },
  {
   "cell_type": "code",
   "execution_count": 43,
   "metadata": {},
   "outputs": [],
   "source": [
    "bool_columns = ['housing', 'loan', 'deposit']\n",
    "for col in  bool_columns:\n",
    "    df4[col+'_new']=df4[col].apply(lambda x : 1 if x == 'yes' else 0)\n",
    "    df4.drop(col, axis=1, inplace=True)"
   ]
  },
  {
   "cell_type": "code",
   "execution_count": 44,
   "metadata": {},
   "outputs": [
    {
     "data": {
      "text/html": [
       "<div>\n",
       "<style scoped>\n",
       "    .dataframe tbody tr th:only-of-type {\n",
       "        vertical-align: middle;\n",
       "    }\n",
       "\n",
       "    .dataframe tbody tr th {\n",
       "        vertical-align: top;\n",
       "    }\n",
       "\n",
       "    .dataframe thead th {\n",
       "        text-align: right;\n",
       "    }\n",
       "</style>\n",
       "<table border=\"1\" class=\"dataframe\">\n",
       "  <thead>\n",
       "    <tr style=\"text-align: right;\">\n",
       "      <th></th>\n",
       "      <th>age</th>\n",
       "      <th>balance</th>\n",
       "      <th>day</th>\n",
       "      <th>duration</th>\n",
       "      <th>campaign</th>\n",
       "      <th>previous</th>\n",
       "      <th>job_blue-collar</th>\n",
       "      <th>job_entrepreneur</th>\n",
       "      <th>job_housemaid</th>\n",
       "      <th>job_management</th>\n",
       "      <th>...</th>\n",
       "      <th>month_may</th>\n",
       "      <th>month_nov</th>\n",
       "      <th>month_oct</th>\n",
       "      <th>month_sep</th>\n",
       "      <th>poutcome_other</th>\n",
       "      <th>poutcome_success</th>\n",
       "      <th>poutcome_unknown</th>\n",
       "      <th>housing_new</th>\n",
       "      <th>loan_new</th>\n",
       "      <th>deposit_new</th>\n",
       "    </tr>\n",
       "  </thead>\n",
       "  <tbody>\n",
       "    <tr>\n",
       "      <th>0</th>\n",
       "      <td>59</td>\n",
       "      <td>2343</td>\n",
       "      <td>5</td>\n",
       "      <td>1042</td>\n",
       "      <td>1</td>\n",
       "      <td>0</td>\n",
       "      <td>0</td>\n",
       "      <td>0</td>\n",
       "      <td>0</td>\n",
       "      <td>0</td>\n",
       "      <td>...</td>\n",
       "      <td>1</td>\n",
       "      <td>0</td>\n",
       "      <td>0</td>\n",
       "      <td>0</td>\n",
       "      <td>0</td>\n",
       "      <td>0</td>\n",
       "      <td>1</td>\n",
       "      <td>1</td>\n",
       "      <td>0</td>\n",
       "      <td>1</td>\n",
       "    </tr>\n",
       "    <tr>\n",
       "      <th>1</th>\n",
       "      <td>56</td>\n",
       "      <td>45</td>\n",
       "      <td>5</td>\n",
       "      <td>1467</td>\n",
       "      <td>1</td>\n",
       "      <td>0</td>\n",
       "      <td>0</td>\n",
       "      <td>0</td>\n",
       "      <td>0</td>\n",
       "      <td>0</td>\n",
       "      <td>...</td>\n",
       "      <td>1</td>\n",
       "      <td>0</td>\n",
       "      <td>0</td>\n",
       "      <td>0</td>\n",
       "      <td>0</td>\n",
       "      <td>0</td>\n",
       "      <td>1</td>\n",
       "      <td>0</td>\n",
       "      <td>0</td>\n",
       "      <td>1</td>\n",
       "    </tr>\n",
       "    <tr>\n",
       "      <th>2</th>\n",
       "      <td>41</td>\n",
       "      <td>1270</td>\n",
       "      <td>5</td>\n",
       "      <td>1389</td>\n",
       "      <td>1</td>\n",
       "      <td>0</td>\n",
       "      <td>0</td>\n",
       "      <td>0</td>\n",
       "      <td>0</td>\n",
       "      <td>0</td>\n",
       "      <td>...</td>\n",
       "      <td>1</td>\n",
       "      <td>0</td>\n",
       "      <td>0</td>\n",
       "      <td>0</td>\n",
       "      <td>0</td>\n",
       "      <td>0</td>\n",
       "      <td>1</td>\n",
       "      <td>1</td>\n",
       "      <td>0</td>\n",
       "      <td>1</td>\n",
       "    </tr>\n",
       "    <tr>\n",
       "      <th>3</th>\n",
       "      <td>55</td>\n",
       "      <td>2476</td>\n",
       "      <td>5</td>\n",
       "      <td>579</td>\n",
       "      <td>1</td>\n",
       "      <td>0</td>\n",
       "      <td>0</td>\n",
       "      <td>0</td>\n",
       "      <td>0</td>\n",
       "      <td>0</td>\n",
       "      <td>...</td>\n",
       "      <td>1</td>\n",
       "      <td>0</td>\n",
       "      <td>0</td>\n",
       "      <td>0</td>\n",
       "      <td>0</td>\n",
       "      <td>0</td>\n",
       "      <td>1</td>\n",
       "      <td>1</td>\n",
       "      <td>0</td>\n",
       "      <td>1</td>\n",
       "    </tr>\n",
       "    <tr>\n",
       "      <th>4</th>\n",
       "      <td>54</td>\n",
       "      <td>184</td>\n",
       "      <td>5</td>\n",
       "      <td>673</td>\n",
       "      <td>2</td>\n",
       "      <td>0</td>\n",
       "      <td>0</td>\n",
       "      <td>0</td>\n",
       "      <td>0</td>\n",
       "      <td>0</td>\n",
       "      <td>...</td>\n",
       "      <td>1</td>\n",
       "      <td>0</td>\n",
       "      <td>0</td>\n",
       "      <td>0</td>\n",
       "      <td>0</td>\n",
       "      <td>0</td>\n",
       "      <td>1</td>\n",
       "      <td>0</td>\n",
       "      <td>0</td>\n",
       "      <td>1</td>\n",
       "    </tr>\n",
       "  </tbody>\n",
       "</table>\n",
       "<p>5 rows × 41 columns</p>\n",
       "</div>"
      ],
      "text/plain": [
       "   age  balance  day  duration  campaign  previous  job_blue-collar  \\\n",
       "0   59     2343    5      1042         1         0                0   \n",
       "1   56       45    5      1467         1         0                0   \n",
       "2   41     1270    5      1389         1         0                0   \n",
       "3   55     2476    5       579         1         0                0   \n",
       "4   54      184    5       673         2         0                0   \n",
       "\n",
       "   job_entrepreneur  job_housemaid  job_management  ...  month_may  month_nov  \\\n",
       "0                 0              0               0  ...          1          0   \n",
       "1                 0              0               0  ...          1          0   \n",
       "2                 0              0               0  ...          1          0   \n",
       "3                 0              0               0  ...          1          0   \n",
       "4                 0              0               0  ...          1          0   \n",
       "\n",
       "   month_oct  month_sep  poutcome_other  poutcome_success  poutcome_unknown  \\\n",
       "0          0          0               0                 0                 1   \n",
       "1          0          0               0                 0                 1   \n",
       "2          0          0               0                 0                 1   \n",
       "3          0          0               0                 0                 1   \n",
       "4          0          0               0                 0                 1   \n",
       "\n",
       "   housing_new  loan_new  deposit_new  \n",
       "0            1         0            1  \n",
       "1            0         0            1  \n",
       "2            1         0            1  \n",
       "3            1         0            1  \n",
       "4            0         0            1  \n",
       "\n",
       "[5 rows x 41 columns]"
      ]
     },
     "execution_count": 44,
     "metadata": {},
     "output_type": "execute_result"
    }
   ],
   "source": [
    "df4.head()"
   ]
  },
  {
   "cell_type": "code",
   "execution_count": 45,
   "metadata": {},
   "outputs": [
    {
     "data": {
      "text/plain": [
       "Index(['age', 'balance', 'day', 'duration', 'campaign', 'previous',\n",
       "       'job_blue-collar', 'job_entrepreneur', 'job_housemaid',\n",
       "       'job_management', 'job_retired', 'job_self-employed', 'job_services',\n",
       "       'job_student', 'job_technician', 'job_unemployed', 'job_unknown',\n",
       "       'marital_married', 'marital_single', 'education_secondary',\n",
       "       'education_tertiary', 'education_unknown', 'contact_telephone',\n",
       "       'contact_unknown', 'month_aug', 'month_dec', 'month_feb', 'month_jan',\n",
       "       'month_jul', 'month_jun', 'month_mar', 'month_may', 'month_nov',\n",
       "       'month_oct', 'month_sep', 'poutcome_other', 'poutcome_success',\n",
       "       'poutcome_unknown', 'housing_new', 'loan_new', 'deposit_new'],\n",
       "      dtype='object')"
      ]
     },
     "execution_count": 45,
     "metadata": {},
     "output_type": "execute_result"
    }
   ],
   "source": [
    "df4.index\n",
    "df4.columns"
   ]
  },
  {
   "cell_type": "markdown",
   "metadata": {},
   "source": [
    "# Feature scaling of numerical features"
   ]
  },
  {
   "cell_type": "code",
   "execution_count": null,
   "metadata": {},
   "outputs": [],
   "source": [
    "numerical_features"
   ]
  },
  {
   "cell_type": "code",
   "execution_count": null,
   "metadata": {},
   "outputs": [],
   "source": [
    "feature_to_scale=[]\n",
    "for i in numerical_features:\n",
    "    if i=='pdays':             # because 'pdays' was dropped\n",
    "        continue\n",
    "    else:\n",
    "        feature_to_scale.append(i)"
   ]
  },
  {
   "cell_type": "code",
   "execution_count": null,
   "metadata": {},
   "outputs": [],
   "source": [
    "feature_to_scale"
   ]
  },
  {
   "cell_type": "code",
   "execution_count": null,
   "metadata": {},
   "outputs": [],
   "source": [
    "from sklearn.preprocessing import StandardScaler\n",
    "scaled_features = df4.copy()\n",
    "col_names = feature_to_scale\n",
    "features = scaled_features[col_names]\n",
    "scaler = StandardScaler().fit(features.values)\n",
    "features = scaler.transform(features.values)\n",
    "scaled_features[col_names] = features\n",
    "print(scaled_features)"
   ]
  },
  {
   "cell_type": "code",
   "execution_count": null,
   "metadata": {},
   "outputs": [],
   "source": [
    "scaled_features_df = pd.DataFrame(scaled_features, index=df4.index, columns=df4.columns)"
   ]
  },
  {
   "cell_type": "code",
   "execution_count": null,
   "metadata": {},
   "outputs": [],
   "source": [
    "scaled_features_df"
   ]
  },
  {
   "cell_type": "code",
   "execution_count": null,
   "metadata": {},
   "outputs": [],
   "source": [
    "#df4 = pd.DataFrame(df4, columns = ['Column_A','Column_B','Column_C'])"
   ]
  },
  {
   "cell_type": "markdown",
   "metadata": {},
   "source": [
    "# Split Dataset into Training set and Test set"
   ]
  },
  {
   "cell_type": "code",
   "execution_count": 46,
   "metadata": {},
   "outputs": [],
   "source": [
    "X = df4.drop(['deposit_new'],axis=1)\n",
    "y = df4['deposit_new']\n",
    "from sklearn.model_selection import train_test_split\n",
    "X_train, X_test, y_train, y_test = train_test_split(X,y,test_size=0.25)"
   ]
  },
  {
   "cell_type": "code",
   "execution_count": 47,
   "metadata": {},
   "outputs": [
    {
     "data": {
      "text/plain": [
       "8364"
      ]
     },
     "execution_count": 47,
     "metadata": {},
     "output_type": "execute_result"
    }
   ],
   "source": [
    "len(X_train)"
   ]
  },
  {
   "cell_type": "code",
   "execution_count": 48,
   "metadata": {},
   "outputs": [
    {
     "data": {
      "text/plain": [
       "2788"
      ]
     },
     "execution_count": 48,
     "metadata": {},
     "output_type": "execute_result"
    }
   ],
   "source": [
    "len(X_test)"
   ]
  },
  {
   "cell_type": "markdown",
   "metadata": {},
   "source": [
    "# Feature scaling"
   ]
  },
  {
   "cell_type": "code",
   "execution_count": 49,
   "metadata": {},
   "outputs": [],
   "source": [
    "from sklearn.preprocessing import StandardScaler\n",
    "sc = StandardScaler()\n",
    "sc.fit(X_train)\n",
    "X_train = sc.transform(X_train)\n",
    "\n",
    "X_test = sc.transform(X_test)"
   ]
  },
  {
   "cell_type": "markdown",
   "metadata": {},
   "source": [
    "# Model Fitting"
   ]
  },
  {
   "cell_type": "markdown",
   "metadata": {},
   "source": [
    "# 1. SVM"
   ]
  },
  {
   "cell_type": "markdown",
   "metadata": {},
   "source": [
    "***Model building and fitting***"
   ]
  },
  {
   "cell_type": "code",
   "execution_count": 168,
   "metadata": {},
   "outputs": [
    {
     "data": {
      "text/plain": [
       "SVC(C=300, gamma=0.001, kernel='linear', random_state=20)"
      ]
     },
     "execution_count": 168,
     "metadata": {},
     "output_type": "execute_result"
    }
   ],
   "source": [
    "#Import svm model\n",
    "from sklearn import svm\n",
    "\n",
    "#Create a svm Classifier\n",
    "model_1 = svm.SVC(kernel='linear',C=300, gamma=0.001,random_state=20) # Linear Kernel\n",
    "#model = svm.SVC(kernel='poly') \n",
    "\n",
    "#Train the model using the training sets\n",
    "model_1.fit(X_train, y_train)"
   ]
  },
  {
   "cell_type": "markdown",
   "metadata": {},
   "source": [
    "***Model evaluation***"
   ]
  },
  {
   "cell_type": "code",
   "execution_count": 169,
   "metadata": {},
   "outputs": [
    {
     "name": "stdout",
     "output_type": "stream",
     "text": [
      "Accuracy: 0.8199426111908178\n",
      "Precision: 0.8205521472392638\n",
      "Recall: 0.7997010463378177\n",
      "              precision    recall  f1-score   support\n",
      "\n",
      "           0       0.82      0.84      0.83      1450\n",
      "           1       0.82      0.80      0.81      1338\n",
      "\n",
      "    accuracy                           0.82      2788\n",
      "   macro avg       0.82      0.82      0.82      2788\n",
      "weighted avg       0.82      0.82      0.82      2788\n",
      "\n"
     ]
    }
   ],
   "source": [
    "#Import scikit-learn metrics module for accuracy calculation\n",
    "from sklearn import metrics\n",
    "from sklearn.metrics import confusion_matrix, roc_curve, roc_auc_score, classification_report\n",
    "\n",
    "#Predict the response for test dataset\n",
    "y_pred = model_1.predict(X_test)\n",
    "\n",
    "# Model Accuracy: how often is the classifier correct?\n",
    "print(\"Accuracy:\",metrics.accuracy_score(y_test, y_pred))\n",
    "\n",
    "# Model Precision: what percentage of positive tuples are labeled as such?\n",
    "print(\"Precision:\",metrics.precision_score(y_test, y_pred))\n",
    "\n",
    "# Model Recall: what percentage of positive tuples are labelled as such?\n",
    "print(\"Recall:\",metrics.recall_score(y_test, y_pred))\n",
    "\n",
    "def pred(model):\n",
    "    yp = model.predict(X_test)\n",
    "    y_pred = []\n",
    "    for element in yp:\n",
    "        if element > 0.5:\n",
    "            y_pred.append(1)\n",
    "        else:\n",
    "            y_pred.append(0)\n",
    "    return(y_pred)\n",
    "\n",
    "print(classification_report(y_test,y_pred))"
   ]
  },
  {
   "cell_type": "code",
   "execution_count": 135,
   "metadata": {},
   "outputs": [
    {
     "data": {
      "image/png": "[encoded data removed]",
      "text/plain": [
       "<Figure size 432x288 with 2 Axes>"
      ]
     },
     "metadata": {
      "needs_background": "light"
     },
     "output_type": "display_data"
    }
   ],
   "source": [
    "def confusionmatrix(model):\n",
    "    cm = sklearn.metrics.confusion_matrix(y_test, np.rint(y_pred))\n",
    "\n",
    "    plt.figure(figsize = (6,4))\n",
    "    sns.heatmap(cm, annot=True, fmt='d')\n",
    "    plt.xlabel('Predicted')\n",
    "    plt.ylabel('Truth')\n",
    "    \n",
    "confusionmatrix(model_1)    "
   ]
  },
  {
   "cell_type": "markdown",
   "metadata": {},
   "source": [
    "# 2. Logistic regression"
   ]
  },
  {
   "cell_type": "markdown",
   "metadata": {},
   "source": [
    "**Model Building**"
   ]
  },
  {
   "cell_type": "code",
   "execution_count": 56,
   "metadata": {},
   "outputs": [
    {
     "data": {
      "text/plain": [
       "LogisticRegression()"
      ]
     },
     "execution_count": 56,
     "metadata": {},
     "output_type": "execute_result"
    }
   ],
   "source": [
    "from sklearn.linear_model import LogisticRegression\n",
    "model_2 = LogisticRegression()\n",
    "model_2.fit(X_train, y_train)"
   ]
  },
  {
   "cell_type": "markdown",
   "metadata": {},
   "source": [
    "**Model Evaluation**"
   ]
  },
  {
   "cell_type": "code",
   "execution_count": 136,
   "metadata": {},
   "outputs": [
    {
     "name": "stdout",
     "output_type": "stream",
     "text": [
      "Accuracy: 0.8145624103299857\n",
      "Precision: 0.8229740361919748\n",
      "Recall: 0.7817638266068759\n",
      "              precision    recall  f1-score   support\n",
      "\n",
      "           0       0.81      0.84      0.83      1450\n",
      "           1       0.82      0.78      0.80      1338\n",
      "\n",
      "    accuracy                           0.81      2788\n",
      "   macro avg       0.82      0.81      0.81      2788\n",
      "weighted avg       0.81      0.81      0.81      2788\n",
      "\n"
     ]
    }
   ],
   "source": [
    "y_pred = model_2.predict(X_test)\n",
    "\n",
    "# Model Accuracy: how often is the classifier correct?\n",
    "print(\"Accuracy:\",metrics.accuracy_score(y_test, y_pred))\n",
    "\n",
    "# Model Precision: what percentage of positive tuples are labeled as such?\n",
    "print(\"Precision:\",metrics.precision_score(y_test, y_pred))\n",
    "\n",
    "# Model Recall: what percentage of positive tuples are labelled as such?\n",
    "print(\"Recall:\",metrics.recall_score(y_test, y_pred))\n",
    "\n",
    "print(classification_report(y_test,y_pred))"
   ]
  },
  {
   "cell_type": "code",
   "execution_count": 147,
   "metadata": {},
   "outputs": [
    {
     "data": {
      "image/png": "[encoded data removed]",
      "text/plain": [
       "<Figure size 432x288 with 2 Axes>"
      ]
     },
     "metadata": {
      "needs_background": "light"
     },
     "output_type": "display_data"
    }
   ],
   "source": [
    "confusionmatrix(model_2)   "
   ]
  },
  {
   "cell_type": "markdown",
   "metadata": {},
   "source": [
    "# 3. K-nearest neighbors"
   ]
  },
  {
   "cell_type": "markdown",
   "metadata": {},
   "source": [
    "**Model Building**"
   ]
  },
  {
   "cell_type": "code",
   "execution_count": 120,
   "metadata": {},
   "outputs": [
    {
     "data": {
      "text/plain": [
       "KNeighborsClassifier(algorithm='kd_tree', n_neighbors=3, p=1)"
      ]
     },
     "execution_count": 120,
     "metadata": {},
     "output_type": "execute_result"
    }
   ],
   "source": [
    "from sklearn.neighbors import KNeighborsClassifier\n",
    "model_3_test = KNeighborsClassifier(n_neighbors = 3,algorithm = 'kd_tree',p=1)\n",
    "model_3_test.fit(X_train,y_train)"
   ]
  },
  {
   "cell_type": "markdown",
   "metadata": {},
   "source": [
    "**Model Evaluation**"
   ]
  },
  {
   "cell_type": "code",
   "execution_count": 121,
   "metadata": {},
   "outputs": [
    {
     "name": "stdout",
     "output_type": "stream",
     "text": [
      "Accuracy: 0.7625538020086083\n"
     ]
    }
   ],
   "source": [
    "y_pred = model_3_test.predict(X_test)\n",
    "print(\"Accuracy:\",metrics.accuracy_score(y_test, y_pred))"
   ]
  },
  {
   "cell_type": "markdown",
   "metadata": {},
   "source": [
    "**Hypertuning model parameters using GridSearchCV**"
   ]
  },
  {
   "cell_type": "code",
   "execution_count": 122,
   "metadata": {},
   "outputs": [
    {
     "data": {
      "text/plain": [
       "GridSearchCV(cv=5, estimator=KNeighborsClassifier(),\n",
       "             param_grid={'n_neighbors': array([ 1,  2,  3,  4,  5,  6,  7,  8,  9, 10, 11, 12, 13, 14, 15, 16, 17,\n",
       "       18, 19, 20, 21, 22, 23])})"
      ]
     },
     "execution_count": 122,
     "metadata": {},
     "output_type": "execute_result"
    }
   ],
   "source": [
    "from sklearn.model_selection import GridSearchCV\n",
    "#create new a knn model\n",
    "model_3_pro = KNeighborsClassifier()\n",
    "#create a dictionary of all values we want to test for n_neighbors\n",
    "param_grid = {'n_neighbors': np.arange(1, 24)}\n",
    "#use gridsearch to test all values for n_neighbors\n",
    "knn_gscv = GridSearchCV(model_3_pro, param_grid, cv=5)\n",
    "#fit model to data\n",
    "knn_gscv.fit(X, y)"
   ]
  },
  {
   "cell_type": "code",
   "execution_count": 123,
   "metadata": {},
   "outputs": [
    {
     "data": {
      "text/plain": [
       "{'n_neighbors': 21}"
      ]
     },
     "execution_count": 123,
     "metadata": {},
     "output_type": "execute_result"
    }
   ],
   "source": [
    "#check top performing n_neighbors value\n",
    "knn_gscv.best_params_"
   ]
  },
  {
   "cell_type": "markdown",
   "metadata": {},
   "source": [
    "**Model building with n_neighbors=21**"
   ]
  },
  {
   "cell_type": "code",
   "execution_count": 174,
   "metadata": {},
   "outputs": [
    {
     "data": {
      "text/plain": [
       "KNeighborsClassifier(algorithm='kd_tree', n_neighbors=21, p=1)"
      ]
     },
     "execution_count": 174,
     "metadata": {},
     "output_type": "execute_result"
    }
   ],
   "source": [
    "model_3 = KNeighborsClassifier(n_neighbors = 21,algorithm = 'kd_tree',p=1)\n",
    "model_3.fit(X_train,y_train)"
   ]
  },
  {
   "cell_type": "markdown",
   "metadata": {},
   "source": [
    "**Model Evaluation phase-2**"
   ]
  },
  {
   "cell_type": "code",
   "execution_count": 175,
   "metadata": {},
   "outputs": [
    {
     "name": "stdout",
     "output_type": "stream",
     "text": [
      "Accuracy: 0.766857962697274\n",
      "Precision: 0.8202979515828678\n",
      "Recall: 0.6584454409566517\n",
      "              precision    recall  f1-score   support\n",
      "\n",
      "           0       0.73      0.87      0.79      1450\n",
      "           1       0.82      0.66      0.73      1338\n",
      "\n",
      "    accuracy                           0.77      2788\n",
      "   macro avg       0.78      0.76      0.76      2788\n",
      "weighted avg       0.78      0.77      0.76      2788\n",
      "\n"
     ]
    }
   ],
   "source": [
    "y_pred = model_3.predict(X_test)\n",
    "\n",
    "# Model Accuracy: how often is the classifier correct?\n",
    "print(\"Accuracy:\",metrics.accuracy_score(y_test, y_pred))\n",
    "\n",
    "# Model Precision: what percentage of positive tuples are labeled as such?\n",
    "print(\"Precision:\",metrics.precision_score(y_test, y_pred))\n",
    "\n",
    "# Model Recall: what percentage of positive tuples are labelled as such?\n",
    "print(\"Recall:\",metrics.recall_score(y_test, y_pred))\n",
    "\n",
    "print(classification_report(y_test,y_pred))"
   ]
  },
  {
   "cell_type": "code",
   "execution_count": 148,
   "metadata": {},
   "outputs": [
    {
     "data": {
      "image/png": "[encoded data removed]",
      "text/plain": [
       "<Figure size 432x288 with 2 Axes>"
      ]
     },
     "metadata": {
      "needs_background": "light"
     },
     "output_type": "display_data"
    }
   ],
   "source": [
    "confusionmatrix(model_3) "
   ]
  },
  {
   "cell_type": "markdown",
   "metadata": {},
   "source": [
    "# 4. Decision Tree"
   ]
  },
  {
   "cell_type": "markdown",
   "metadata": {},
   "source": [
    "**Model Building**"
   ]
  },
  {
   "cell_type": "code",
   "execution_count": 96,
   "metadata": {},
   "outputs": [
    {
     "data": {
      "text/plain": [
       "DecisionTreeClassifier()"
      ]
     },
     "execution_count": 96,
     "metadata": {},
     "output_type": "execute_result"
    }
   ],
   "source": [
    "from sklearn.tree import DecisionTreeClassifier\n",
    "model_4 = DecisionTreeClassifier()\n",
    "model_4.fit(X_train,y_train)"
   ]
  },
  {
   "cell_type": "markdown",
   "metadata": {},
   "source": [
    "**Model Evaluation**"
   ]
  },
  {
   "cell_type": "code",
   "execution_count": 139,
   "metadata": {},
   "outputs": [
    {
     "name": "stdout",
     "output_type": "stream",
     "text": [
      "Accuracy: 0.7697274031563845\n",
      "Precision: 0.7689335394126738\n",
      "Recall: 0.7436472346786248\n",
      "              precision    recall  f1-score   support\n",
      "\n",
      "           0       0.77      0.79      0.78      1450\n",
      "           1       0.77      0.74      0.76      1338\n",
      "\n",
      "    accuracy                           0.77      2788\n",
      "   macro avg       0.77      0.77      0.77      2788\n",
      "weighted avg       0.77      0.77      0.77      2788\n",
      "\n"
     ]
    }
   ],
   "source": [
    "y_pred = model_4.predict(X_test)\n",
    "\n",
    "# Model Accuracy: how often is the classifier correct?\n",
    "print(\"Accuracy:\",metrics.accuracy_score(y_test, y_pred))\n",
    "\n",
    "# Model Precision: what percentage of positive tuples are labeled as such?\n",
    "print(\"Precision:\",metrics.precision_score(y_test, y_pred))\n",
    "\n",
    "# Model Recall: what percentage of positive tuples are labelled as such?\n",
    "print(\"Recall:\",metrics.recall_score(y_test, y_pred))\n",
    "\n",
    "print(classification_report(y_test,y_pred))"
   ]
  },
  {
   "cell_type": "code",
   "execution_count": 149,
   "metadata": {},
   "outputs": [
    {
     "data": {
      "image/png": "[encoded data removed]",
      "text/plain": [
       "<Figure size 432x288 with 2 Axes>"
      ]
     },
     "metadata": {
      "needs_background": "light"
     },
     "output_type": "display_data"
    }
   ],
   "source": [
    "confusionmatrix(model_4) "
   ]
  },
  {
   "cell_type": "markdown",
   "metadata": {},
   "source": [
    "# 5. Random Forest"
   ]
  },
  {
   "cell_type": "markdown",
   "metadata": {},
   "source": [
    "**Model Building**"
   ]
  },
  {
   "cell_type": "code",
   "execution_count": 178,
   "metadata": {},
   "outputs": [
    {
     "data": {
      "text/plain": [
       "RandomForestClassifier(criterion='entropy', max_features=7, n_estimators=250)"
      ]
     },
     "execution_count": 178,
     "metadata": {},
     "output_type": "execute_result"
    }
   ],
   "source": [
    "from sklearn.ensemble import RandomForestClassifier\n",
    "model_5=RandomForestClassifier(n_estimators=250,criterion='entropy',max_features=7)\n",
    "model_5.fit(X_train,y_train)"
   ]
  },
  {
   "cell_type": "markdown",
   "metadata": {},
   "source": [
    "**Model Evaluation**"
   ]
  },
  {
   "cell_type": "code",
   "execution_count": 179,
   "metadata": {},
   "outputs": [
    {
     "name": "stdout",
     "output_type": "stream",
     "text": [
      "Accuracy: 0.8486370157819225\n",
      "Precision: 0.824822695035461\n",
      "Recall: 0.8692077727952168\n",
      "              precision    recall  f1-score   support\n",
      "\n",
      "           0       0.87      0.83      0.85      1450\n",
      "           1       0.82      0.87      0.85      1338\n",
      "\n",
      "    accuracy                           0.85      2788\n",
      "   macro avg       0.85      0.85      0.85      2788\n",
      "weighted avg       0.85      0.85      0.85      2788\n",
      "\n"
     ]
    }
   ],
   "source": [
    "y_pred = model_5.predict(X_test)\n",
    "\n",
    "# Model Accuracy: how often is the classifier correct?\n",
    "print(\"Accuracy:\",metrics.accuracy_score(y_test, y_pred))\n",
    "\n",
    "# Model Precision: what percentage of positive tuples are labeled as such?\n",
    "print(\"Precision:\",metrics.precision_score(y_test, y_pred))\n",
    "\n",
    "# Model Recall: what percentage of positive tuples are labelled as such?\n",
    "print(\"Recall:\",metrics.recall_score(y_test, y_pred))\n",
    "\n",
    "print(classification_report(y_test,y_pred))"
   ]
  },
  {
   "cell_type": "code",
   "execution_count": 180,
   "metadata": {},
   "outputs": [
    {
     "data": {
      "image/png": "[encoded data removed]",
      "text/plain": [
       "<Figure size 432x288 with 2 Axes>"
      ]
     },
     "metadata": {
      "needs_background": "light"
     },
     "output_type": "display_data"
    }
   ],
   "source": [
    "confusionmatrix(model_5) "
   ]
  },
  {
   "cell_type": "markdown",
   "metadata": {},
   "source": [
    "# 6. Neural Network"
   ]
  },
  {
   "cell_type": "markdown",
   "metadata": {},
   "source": [
    "**Model Building**"
   ]
  },
  {
   "cell_type": "code",
   "execution_count": 184,
   "metadata": {},
   "outputs": [
    {
     "name": "stdout",
     "output_type": "stream",
     "text": [
      "Epoch 1/100\n",
      "210/210 [==============================] - 0s 1ms/step - loss: 0.6347 - accuracy: 0.6254 - val_loss: 0.5011 - val_accuracy: 0.7717\n",
      "Epoch 2/100\n",
      "210/210 [==============================] - 0s 647us/step - loss: 0.4745 - accuracy: 0.7901 - val_loss: 0.4329 - val_accuracy: 0.8111\n",
      "Epoch 3/100\n",
      "210/210 [==============================] - 0s 627us/step - loss: 0.4203 - accuracy: 0.8197 - val_loss: 0.4039 - val_accuracy: 0.8207\n",
      "Epoch 4/100\n",
      "210/210 [==============================] - 0s 632us/step - loss: 0.3886 - accuracy: 0.8357 - val_loss: 0.3942 - val_accuracy: 0.8201\n",
      "Epoch 5/100\n",
      "210/210 [==============================] - 0s 618us/step - loss: 0.3750 - accuracy: 0.8366 - val_loss: 0.3875 - val_accuracy: 0.8237\n",
      "Epoch 6/100\n",
      "210/210 [==============================] - 0s 608us/step - loss: 0.3590 - accuracy: 0.8388 - val_loss: 0.3858 - val_accuracy: 0.8302\n",
      "Epoch 7/100\n",
      "210/210 [==============================] - 0s 618us/step - loss: 0.3775 - accuracy: 0.8404 - val_loss: 0.3821 - val_accuracy: 0.8285\n",
      "Epoch 8/100\n",
      "210/210 [==============================] - 0s 613us/step - loss: 0.3599 - accuracy: 0.8447 - val_loss: 0.3781 - val_accuracy: 0.8338\n",
      "Epoch 9/100\n",
      "210/210 [==============================] - 0s 603us/step - loss: 0.3554 - accuracy: 0.8498 - val_loss: 0.3765 - val_accuracy: 0.8338\n",
      "Epoch 10/100\n",
      "210/210 [==============================] - 0s 613us/step - loss: 0.3531 - accuracy: 0.8495 - val_loss: 0.3759 - val_accuracy: 0.8368\n",
      "Epoch 11/100\n",
      "210/210 [==============================] - 0s 613us/step - loss: 0.3678 - accuracy: 0.8447 - val_loss: 0.3727 - val_accuracy: 0.8404\n",
      "Epoch 12/100\n",
      "210/210 [==============================] - 0s 618us/step - loss: 0.3517 - accuracy: 0.8510 - val_loss: 0.3713 - val_accuracy: 0.8380\n",
      "Epoch 13/100\n",
      "210/210 [==============================] - 0s 618us/step - loss: 0.3488 - accuracy: 0.8529 - val_loss: 0.3697 - val_accuracy: 0.8428\n",
      "Epoch 14/100\n",
      "210/210 [==============================] - 0s 613us/step - loss: 0.3425 - accuracy: 0.8534 - val_loss: 0.3732 - val_accuracy: 0.8440\n",
      "Epoch 15/100\n",
      "210/210 [==============================] - 0s 608us/step - loss: 0.3239 - accuracy: 0.8617 - val_loss: 0.3700 - val_accuracy: 0.8440\n",
      "Epoch 16/100\n",
      "210/210 [==============================] - 0s 608us/step - loss: 0.3432 - accuracy: 0.8551 - val_loss: 0.3676 - val_accuracy: 0.8416\n",
      "Epoch 17/100\n",
      "210/210 [==============================] - 0s 608us/step - loss: 0.3390 - accuracy: 0.8555 - val_loss: 0.3689 - val_accuracy: 0.8470\n",
      "Epoch 18/100\n",
      "210/210 [==============================] - 0s 627us/step - loss: 0.3305 - accuracy: 0.8652 - val_loss: 0.3685 - val_accuracy: 0.8452\n",
      "Epoch 19/100\n",
      "210/210 [==============================] - 0s 603us/step - loss: 0.3267 - accuracy: 0.8559 - val_loss: 0.3675 - val_accuracy: 0.8410\n",
      "Epoch 20/100\n",
      "210/210 [==============================] - 0s 613us/step - loss: 0.3356 - accuracy: 0.8604 - val_loss: 0.3696 - val_accuracy: 0.8482\n",
      "Epoch 21/100\n",
      "210/210 [==============================] - 0s 613us/step - loss: 0.3186 - accuracy: 0.8663 - val_loss: 0.3655 - val_accuracy: 0.8482\n",
      "Epoch 22/100\n",
      "210/210 [==============================] - 0s 613us/step - loss: 0.3168 - accuracy: 0.8653 - val_loss: 0.3679 - val_accuracy: 0.8398\n",
      "Epoch 23/100\n",
      "210/210 [==============================] - 0s 623us/step - loss: 0.3226 - accuracy: 0.8614 - val_loss: 0.3651 - val_accuracy: 0.8434\n",
      "Epoch 24/100\n",
      "210/210 [==============================] - 0s 608us/step - loss: 0.3202 - accuracy: 0.8617 - val_loss: 0.3627 - val_accuracy: 0.8470\n",
      "Epoch 25/100\n",
      "210/210 [==============================] - 0s 618us/step - loss: 0.3178 - accuracy: 0.8671 - val_loss: 0.3623 - val_accuracy: 0.8422\n",
      "Epoch 26/100\n",
      "210/210 [==============================] - 0s 623us/step - loss: 0.3209 - accuracy: 0.8645 - val_loss: 0.3668 - val_accuracy: 0.8422\n",
      "Epoch 27/100\n",
      "210/210 [==============================] - 0s 632us/step - loss: 0.3098 - accuracy: 0.8675 - val_loss: 0.3643 - val_accuracy: 0.8488\n",
      "Epoch 28/100\n",
      "210/210 [==============================] - 0s 627us/step - loss: 0.3097 - accuracy: 0.8716 - val_loss: 0.3631 - val_accuracy: 0.8470\n",
      "Epoch 29/100\n",
      "210/210 [==============================] - 0s 618us/step - loss: 0.3040 - accuracy: 0.8697 - val_loss: 0.3638 - val_accuracy: 0.8452\n",
      "Epoch 30/100\n",
      "210/210 [==============================] - 0s 627us/step - loss: 0.3041 - accuracy: 0.8703 - val_loss: 0.3625 - val_accuracy: 0.8440\n",
      "Epoch 31/100\n",
      "210/210 [==============================] - 0s 618us/step - loss: 0.3161 - accuracy: 0.8661 - val_loss: 0.3624 - val_accuracy: 0.8458\n",
      "Epoch 32/100\n",
      "210/210 [==============================] - 0s 608us/step - loss: 0.2988 - accuracy: 0.8760 - val_loss: 0.3628 - val_accuracy: 0.8476\n",
      "Epoch 33/100\n",
      "210/210 [==============================] - 0s 637us/step - loss: 0.3136 - accuracy: 0.8648 - val_loss: 0.3639 - val_accuracy: 0.8494\n",
      "Epoch 34/100\n",
      "210/210 [==============================] - 0s 618us/step - loss: 0.3030 - accuracy: 0.8679 - val_loss: 0.3619 - val_accuracy: 0.8482\n",
      "Epoch 35/100\n",
      "210/210 [==============================] - 0s 632us/step - loss: 0.2940 - accuracy: 0.8778 - val_loss: 0.3633 - val_accuracy: 0.8434\n",
      "Epoch 36/100\n",
      "210/210 [==============================] - 0s 618us/step - loss: 0.2957 - accuracy: 0.8754 - val_loss: 0.3643 - val_accuracy: 0.8464\n",
      "Epoch 37/100\n",
      "210/210 [==============================] - 0s 613us/step - loss: 0.2943 - accuracy: 0.8687 - val_loss: 0.3641 - val_accuracy: 0.8428\n",
      "Epoch 38/100\n",
      "210/210 [==============================] - 0s 618us/step - loss: 0.2808 - accuracy: 0.8813 - val_loss: 0.3629 - val_accuracy: 0.8422\n",
      "Epoch 39/100\n",
      "210/210 [==============================] - 0s 608us/step - loss: 0.2943 - accuracy: 0.8804 - val_loss: 0.3669 - val_accuracy: 0.8398\n",
      "Epoch 40/100\n",
      "210/210 [==============================] - 0s 618us/step - loss: 0.2953 - accuracy: 0.8762 - val_loss: 0.3664 - val_accuracy: 0.8398\n",
      "Epoch 41/100\n",
      "210/210 [==============================] - 0s 623us/step - loss: 0.2914 - accuracy: 0.8783 - val_loss: 0.3645 - val_accuracy: 0.8416\n",
      "Epoch 42/100\n",
      "210/210 [==============================] - 0s 613us/step - loss: 0.3110 - accuracy: 0.8669 - val_loss: 0.3644 - val_accuracy: 0.8428\n",
      "Epoch 43/100\n",
      "210/210 [==============================] - 0s 613us/step - loss: 0.2846 - accuracy: 0.8796 - val_loss: 0.3668 - val_accuracy: 0.8422\n",
      "Epoch 44/100\n",
      "210/210 [==============================] - 0s 613us/step - loss: 0.2901 - accuracy: 0.8784 - val_loss: 0.3663 - val_accuracy: 0.8422\n",
      "Epoch 45/100\n",
      "210/210 [==============================] - 0s 618us/step - loss: 0.3017 - accuracy: 0.8697 - val_loss: 0.3651 - val_accuracy: 0.8416\n",
      "Epoch 46/100\n",
      "210/210 [==============================] - 0s 642us/step - loss: 0.2789 - accuracy: 0.8828 - val_loss: 0.3686 - val_accuracy: 0.8398\n",
      "Epoch 47/100\n",
      "210/210 [==============================] - 0s 627us/step - loss: 0.2885 - accuracy: 0.8775 - val_loss: 0.3699 - val_accuracy: 0.8404\n",
      "Epoch 48/100\n",
      "210/210 [==============================] - 0s 618us/step - loss: 0.2813 - accuracy: 0.8823 - val_loss: 0.3664 - val_accuracy: 0.8380\n",
      "Epoch 49/100\n",
      "210/210 [==============================] - 0s 618us/step - loss: 0.2863 - accuracy: 0.8812 - val_loss: 0.3695 - val_accuracy: 0.8392\n",
      "Epoch 50/100\n",
      "210/210 [==============================] - 0s 618us/step - loss: 0.2903 - accuracy: 0.8781 - val_loss: 0.3670 - val_accuracy: 0.8422\n",
      "Epoch 51/100\n",
      "210/210 [==============================] - 0s 632us/step - loss: 0.2794 - accuracy: 0.8795 - val_loss: 0.3668 - val_accuracy: 0.8392\n",
      "Epoch 52/100\n",
      "210/210 [==============================] - 0s 613us/step - loss: 0.2871 - accuracy: 0.8805 - val_loss: 0.3690 - val_accuracy: 0.8386\n",
      "Epoch 53/100\n",
      "210/210 [==============================] - 0s 618us/step - loss: 0.2976 - accuracy: 0.8696 - val_loss: 0.3695 - val_accuracy: 0.8416\n",
      "Epoch 54/100\n",
      "210/210 [==============================] - 0s 623us/step - loss: 0.2913 - accuracy: 0.8792 - val_loss: 0.3685 - val_accuracy: 0.8416\n",
      "Epoch 55/100\n",
      "210/210 [==============================] - 0s 608us/step - loss: 0.2785 - accuracy: 0.8805 - val_loss: 0.3708 - val_accuracy: 0.8392\n",
      "Epoch 56/100\n",
      "210/210 [==============================] - 0s 603us/step - loss: 0.2867 - accuracy: 0.8794 - val_loss: 0.3692 - val_accuracy: 0.8386\n",
      "Epoch 57/100\n",
      "210/210 [==============================] - 0s 613us/step - loss: 0.2925 - accuracy: 0.8753 - val_loss: 0.3732 - val_accuracy: 0.8386\n",
      "Epoch 58/100\n",
      "210/210 [==============================] - 0s 608us/step - loss: 0.2807 - accuracy: 0.8852 - val_loss: 0.3723 - val_accuracy: 0.8416\n",
      "Epoch 59/100\n",
      "210/210 [==============================] - 0s 613us/step - loss: 0.2812 - accuracy: 0.8753 - val_loss: 0.3725 - val_accuracy: 0.8428\n",
      "Epoch 60/100\n",
      "210/210 [==============================] - 0s 618us/step - loss: 0.2824 - accuracy: 0.8841 - val_loss: 0.3724 - val_accuracy: 0.8422\n",
      "Epoch 61/100\n",
      "210/210 [==============================] - 0s 627us/step - loss: 0.2824 - accuracy: 0.8791 - val_loss: 0.3710 - val_accuracy: 0.8416\n",
      "Epoch 62/100\n",
      "210/210 [==============================] - 0s 618us/step - loss: 0.2909 - accuracy: 0.8770 - val_loss: 0.3741 - val_accuracy: 0.8398\n",
      "Epoch 63/100\n",
      "210/210 [==============================] - 0s 613us/step - loss: 0.2848 - accuracy: 0.8835 - val_loss: 0.3731 - val_accuracy: 0.8386\n",
      "Epoch 64/100\n",
      "210/210 [==============================] - 0s 603us/step - loss: 0.2827 - accuracy: 0.8806 - val_loss: 0.3720 - val_accuracy: 0.8386\n",
      "Epoch 65/100\n",
      "210/210 [==============================] - 0s 608us/step - loss: 0.2858 - accuracy: 0.8785 - val_loss: 0.3739 - val_accuracy: 0.8386\n",
      "Epoch 66/100\n",
      "210/210 [==============================] - 0s 613us/step - loss: 0.2806 - accuracy: 0.8828 - val_loss: 0.3732 - val_accuracy: 0.8386\n",
      "Epoch 67/100\n",
      "210/210 [==============================] - 0s 613us/step - loss: 0.2926 - accuracy: 0.8780 - val_loss: 0.3709 - val_accuracy: 0.8452\n",
      "Epoch 68/100\n",
      "210/210 [==============================] - 0s 613us/step - loss: 0.2814 - accuracy: 0.8816 - val_loss: 0.3748 - val_accuracy: 0.8386\n",
      "Epoch 69/100\n",
      "210/210 [==============================] - 0s 613us/step - loss: 0.2789 - accuracy: 0.8834 - val_loss: 0.3787 - val_accuracy: 0.8392\n",
      "Epoch 70/100\n",
      "210/210 [==============================] - 0s 608us/step - loss: 0.2892 - accuracy: 0.8782 - val_loss: 0.3766 - val_accuracy: 0.8392\n",
      "Epoch 71/100\n",
      "210/210 [==============================] - 0s 608us/step - loss: 0.2802 - accuracy: 0.8827 - val_loss: 0.3764 - val_accuracy: 0.8380\n",
      "Epoch 72/100\n",
      "210/210 [==============================] - 0s 608us/step - loss: 0.2809 - accuracy: 0.8840 - val_loss: 0.3770 - val_accuracy: 0.8374\n",
      "Epoch 73/100\n",
      "210/210 [==============================] - 0s 608us/step - loss: 0.2885 - accuracy: 0.8812 - val_loss: 0.3770 - val_accuracy: 0.8410\n",
      "Epoch 74/100\n",
      "210/210 [==============================] - 0s 608us/step - loss: 0.2808 - accuracy: 0.8812 - val_loss: 0.3765 - val_accuracy: 0.8398\n",
      "Epoch 75/100\n",
      "210/210 [==============================] - 0s 608us/step - loss: 0.2772 - accuracy: 0.8886 - val_loss: 0.3752 - val_accuracy: 0.8368\n",
      "Epoch 76/100\n",
      "210/210 [==============================] - 0s 613us/step - loss: 0.2808 - accuracy: 0.8831 - val_loss: 0.3817 - val_accuracy: 0.8386\n",
      "Epoch 77/100\n",
      "210/210 [==============================] - 0s 613us/step - loss: 0.2812 - accuracy: 0.8841 - val_loss: 0.3755 - val_accuracy: 0.8398\n",
      "Epoch 78/100\n",
      "210/210 [==============================] - 0s 632us/step - loss: 0.2779 - accuracy: 0.8846 - val_loss: 0.3796 - val_accuracy: 0.8398\n",
      "Epoch 79/100\n",
      "210/210 [==============================] - 0s 613us/step - loss: 0.2634 - accuracy: 0.8897 - val_loss: 0.3826 - val_accuracy: 0.8398\n",
      "Epoch 80/100\n",
      "210/210 [==============================] - 0s 608us/step - loss: 0.2670 - accuracy: 0.8846 - val_loss: 0.3765 - val_accuracy: 0.8428\n",
      "Epoch 81/100\n",
      "210/210 [==============================] - 0s 613us/step - loss: 0.2744 - accuracy: 0.8850 - val_loss: 0.3827 - val_accuracy: 0.8416\n",
      "Epoch 82/100\n",
      "210/210 [==============================] - 0s 618us/step - loss: 0.2743 - accuracy: 0.8893 - val_loss: 0.3773 - val_accuracy: 0.8374\n",
      "Epoch 83/100\n",
      "210/210 [==============================] - 0s 608us/step - loss: 0.2840 - accuracy: 0.8795 - val_loss: 0.3819 - val_accuracy: 0.8344\n",
      "Epoch 84/100\n",
      "210/210 [==============================] - 0s 603us/step - loss: 0.2725 - accuracy: 0.8870 - val_loss: 0.3819 - val_accuracy: 0.8386\n",
      "Epoch 85/100\n",
      "210/210 [==============================] - 0s 603us/step - loss: 0.2705 - accuracy: 0.8883 - val_loss: 0.3776 - val_accuracy: 0.8446\n",
      "Epoch 86/100\n",
      "210/210 [==============================] - 0s 608us/step - loss: 0.2813 - accuracy: 0.8865 - val_loss: 0.3854 - val_accuracy: 0.8362\n",
      "Epoch 87/100\n",
      "210/210 [==============================] - 0s 618us/step - loss: 0.2773 - accuracy: 0.8821 - val_loss: 0.3834 - val_accuracy: 0.8386\n",
      "Epoch 88/100\n",
      "210/210 [==============================] - 0s 623us/step - loss: 0.2779 - accuracy: 0.8859 - val_loss: 0.3819 - val_accuracy: 0.8422\n",
      "Epoch 89/100\n",
      "210/210 [==============================] - 0s 613us/step - loss: 0.2728 - accuracy: 0.8854 - val_loss: 0.3821 - val_accuracy: 0.8416\n",
      "Epoch 90/100\n",
      "210/210 [==============================] - 0s 627us/step - loss: 0.2749 - accuracy: 0.8844 - val_loss: 0.3798 - val_accuracy: 0.8386\n",
      "Epoch 91/100\n",
      "210/210 [==============================] - 0s 613us/step - loss: 0.2780 - accuracy: 0.8903 - val_loss: 0.3841 - val_accuracy: 0.8368\n",
      "Epoch 92/100\n",
      "210/210 [==============================] - 0s 642us/step - loss: 0.2776 - accuracy: 0.8810 - val_loss: 0.3829 - val_accuracy: 0.8410\n",
      "Epoch 93/100\n",
      "210/210 [==============================] - 0s 603us/step - loss: 0.2640 - accuracy: 0.8908 - val_loss: 0.3870 - val_accuracy: 0.8380\n",
      "Epoch 94/100\n",
      "210/210 [==============================] - 0s 618us/step - loss: 0.2630 - accuracy: 0.8898 - val_loss: 0.3869 - val_accuracy: 0.8392\n",
      "Epoch 95/100\n",
      "210/210 [==============================] - 0s 608us/step - loss: 0.2681 - accuracy: 0.8895 - val_loss: 0.3871 - val_accuracy: 0.8404\n",
      "Epoch 96/100\n",
      "210/210 [==============================] - 0s 608us/step - loss: 0.2722 - accuracy: 0.8908 - val_loss: 0.3902 - val_accuracy: 0.8374\n",
      "Epoch 97/100\n",
      "210/210 [==============================] - 0s 608us/step - loss: 0.2666 - accuracy: 0.8912 - val_loss: 0.3828 - val_accuracy: 0.8410\n",
      "Epoch 98/100\n",
      "210/210 [==============================] - 0s 608us/step - loss: 0.2659 - accuracy: 0.8918 - val_loss: 0.3867 - val_accuracy: 0.8344\n",
      "Epoch 99/100\n",
      "210/210 [==============================] - 0s 627us/step - loss: 0.2660 - accuracy: 0.8901 - val_loss: 0.3834 - val_accuracy: 0.8434\n",
      "Epoch 100/100\n",
      "210/210 [==============================] - 0s 618us/step - loss: 0.2797 - accuracy: 0.8827 - val_loss: 0.3857 - val_accuracy: 0.8398\n"
     ]
    },
    {
     "data": {
      "text/plain": [
       "<tensorflow.python.keras.callbacks.History at 0x132250932b0>"
      ]
     },
     "execution_count": 184,
     "metadata": {},
     "output_type": "execute_result"
    }
   ],
   "source": [
    "from keras.models import Sequential\n",
    "from keras.layers import Dense\n",
    "model_6 = Sequential()\n",
    "model_6.add(Dense(20, input_dim=40, activation='relu'))\n",
    "#model_6.add(Dense(15, activation='relu'))\n",
    "#model_6.add(Dense(15, activation='relu'))\n",
    "model_6.add(Dense(1, activation='sigmoid'))\n",
    "\n",
    "# compile the keras model\n",
    "model_6.compile(loss='binary_crossentropy', optimizer='adam', metrics=['accuracy'])\n",
    "\n",
    "model_6.fit(X_train,y_train,validation_split=.2, epochs=100)"
   ]
  },
  {
   "cell_type": "markdown",
   "metadata": {},
   "source": [
    "**Model Evaluation**"
   ]
  },
  {
   "cell_type": "code",
   "execution_count": 185,
   "metadata": {},
   "outputs": [
    {
     "name": "stdout",
     "output_type": "stream",
     "text": [
      "88/88 [==============================] - 0s 334us/step - loss: 0.4092 - accuracy: 0.8350\n"
     ]
    }
   ],
   "source": [
    "accuracy = model_6.evaluate(X_test, y_test)\n"
   ]
  },
  {
   "cell_type": "markdown",
   "metadata": {},
   "source": [
    "confusionmatrix(model_6)"
   ]
  },
  {
   "cell_type": "code",
   "execution_count": 186,
   "metadata": {},
   "outputs": [
    {
     "name": "stdout",
     "output_type": "stream",
     "text": [
      "              precision    recall  f1-score   support\n",
      "\n",
      "           0       0.85      0.83      0.84      1450\n",
      "           1       0.82      0.84      0.83      1338\n",
      "\n",
      "    accuracy                           0.84      2788\n",
      "   macro avg       0.83      0.84      0.83      2788\n",
      "weighted avg       0.84      0.84      0.84      2788\n",
      "\n"
     ]
    }
   ],
   "source": [
    "y_pred = pred(model_6)\n",
    "print(classification_report(y_test,y_pred))"
   ]
  },
  {
   "cell_type": "markdown",
   "metadata": {},
   "source": [
    "# Comparative Study"
   ]
  },
  {
   "attachments": {
    "Screenshot%20%28156%29.png": {
     "image/png": "[encoded data removed]"
    }
   },
   "cell_type": "markdown",
   "metadata": {},
   "source": [
    "![Screenshot%20%28156%29.png](attachment:Screenshot%20%28156%29.png)"
   ]
  },
  {
   "cell_type": "markdown",
   "metadata": {},
   "source": [
    "# Observation:"
   ]
  },
  {
   "cell_type": "markdown",
   "metadata": {},
   "source": [
    "**we can see that both Random Forest and Neural Network gives the best accuracy for the given problem**"
   ]
  }
 ],
 "metadata": {
  "kernelspec": {
   "display_name": "Python 3",
   "language": "python",
   "name": "python3"
  },
  "language_info": {
   "codemirror_mode": {
    "name": "ipython",
    "version": 3
   },
   "file_extension": ".py",
   "mimetype": "text/x-python",
   "name": "python",
   "nbconvert_exporter": "python",
   "pygments_lexer": "ipython3",
   "version": "3.8.5"
  }
 },
 "nbformat": 4,
 "nbformat_minor": 4
}
